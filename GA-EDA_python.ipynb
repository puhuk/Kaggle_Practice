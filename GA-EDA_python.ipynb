{
  "cells": [
    {
      "metadata": {
        "_uuid": "f07f5eeba803d662a0a8dccfad2e9c4b26c0462b"
      },
      "cell_type": "markdown",
      "source": "I want to share what I learned and practiced from [SRK](https://www.kaggle.com/sudalairajkumar/simple-exploration-baseline-ga-customer-revenue) and Andrew Lukyanenko[](https://www.kaggle.com/artgor/fork-of-eda-on-basic-data-and-lgb-in-progress) 's kernel.\nThanks for their open kernel for study and let me start the practice."
    },
    {
      "metadata": {
        "trusted": true,
        "_uuid": "391ec79a8c6d0ae4c19a60f1828f6b0dca95f866"
      },
      "cell_type": "code",
      "source": "import os\nimport json\nimport numpy as np\nimport pandas as pd\nfrom pandas.io.json import json_normalize",
      "execution_count": 4,
      "outputs": []
    },
    {
      "metadata": {
        "trusted": true,
        "_uuid": "45266bcca8a524017b40b0a17983d54211f1d170"
      },
      "cell_type": "code",
      "source": "import numpy as np \nimport pandas as pd \nimport json\nimport bq_helper\nfrom pandas.io.json import json_normalize\nimport seaborn as sns \nimport matplotlib.pyplot as plt\n%matplotlib inline\nplt.style.use('ggplot')\nimport lightgbm as lgb\n\nfrom sklearn.preprocessing import LabelEncoder\nfrom sklearn.model_selection import TimeSeriesSplit, KFold\nfrom sklearn.metrics import mean_squared_error",
      "execution_count": 5,
      "outputs": []
    },
    {
      "metadata": {
        "_uuid": "96bf21221e34604a41de9590cbec06e5d9752032"
      },
      "cell_type": "markdown",
      "source": "Let's see the train data. There are JSON format like device, hits, etc."
    },
    {
      "metadata": {
        "trusted": true,
        "_uuid": "93dbac808f1b155c412842a3319be544f6055dcf"
      },
      "cell_type": "code",
      "source": "train1=pd.read_csv(\"../input/train_v2.csv\",nrows=200)\ntrain1.head()",
      "execution_count": 6,
      "outputs": [
        {
          "output_type": "execute_result",
          "execution_count": 6,
          "data": {
            "text/plain": "  channelGrouping      ...       visitStartTime\n0  Organic Search      ...           1508198450\n1        Referral      ...           1508176307\n2          Direct      ...           1508201613\n3  Organic Search      ...           1508169851\n4  Organic Search      ...           1508190552\n\n[5 rows x 13 columns]",
            "text/html": "<div>\n<style scoped>\n    .dataframe tbody tr th:only-of-type {\n        vertical-align: middle;\n    }\n\n    .dataframe tbody tr th {\n        vertical-align: top;\n    }\n\n    .dataframe thead th {\n        text-align: right;\n    }\n</style>\n<table border=\"1\" class=\"dataframe\">\n  <thead>\n    <tr style=\"text-align: right;\">\n      <th></th>\n      <th>channelGrouping</th>\n      <th>customDimensions</th>\n      <th>date</th>\n      <th>device</th>\n      <th>fullVisitorId</th>\n      <th>geoNetwork</th>\n      <th>hits</th>\n      <th>socialEngagementType</th>\n      <th>totals</th>\n      <th>trafficSource</th>\n      <th>visitId</th>\n      <th>visitNumber</th>\n      <th>visitStartTime</th>\n    </tr>\n  </thead>\n  <tbody>\n    <tr>\n      <th>0</th>\n      <td>Organic Search</td>\n      <td>[{'index': '4', 'value': 'EMEA'}]</td>\n      <td>20171016</td>\n      <td>{\"browser\": \"Firefox\", \"browserVersion\": \"not ...</td>\n      <td>3162355547410993243</td>\n      <td>{\"continent\": \"Europe\", \"subContinent\": \"Weste...</td>\n      <td>[{'hitNumber': '1', 'time': '0', 'hour': '17',...</td>\n      <td>Not Socially Engaged</td>\n      <td>{\"visits\": \"1\", \"hits\": \"1\", \"pageviews\": \"1\",...</td>\n      <td>{\"campaign\": \"(not set)\", \"source\": \"google\", ...</td>\n      <td>1508198450</td>\n      <td>1</td>\n      <td>1508198450</td>\n    </tr>\n    <tr>\n      <th>1</th>\n      <td>Referral</td>\n      <td>[{'index': '4', 'value': 'North America'}]</td>\n      <td>20171016</td>\n      <td>{\"browser\": \"Chrome\", \"browserVersion\": \"not a...</td>\n      <td>8934116514970143966</td>\n      <td>{\"continent\": \"Americas\", \"subContinent\": \"Nor...</td>\n      <td>[{'hitNumber': '1', 'time': '0', 'hour': '10',...</td>\n      <td>Not Socially Engaged</td>\n      <td>{\"visits\": \"1\", \"hits\": \"2\", \"pageviews\": \"2\",...</td>\n      <td>{\"referralPath\": \"/a/google.com/transportation...</td>\n      <td>1508176307</td>\n      <td>6</td>\n      <td>1508176307</td>\n    </tr>\n    <tr>\n      <th>2</th>\n      <td>Direct</td>\n      <td>[{'index': '4', 'value': 'North America'}]</td>\n      <td>20171016</td>\n      <td>{\"browser\": \"Chrome\", \"browserVersion\": \"not a...</td>\n      <td>7992466427990357681</td>\n      <td>{\"continent\": \"Americas\", \"subContinent\": \"Nor...</td>\n      <td>[{'hitNumber': '1', 'time': '0', 'hour': '17',...</td>\n      <td>Not Socially Engaged</td>\n      <td>{\"visits\": \"1\", \"hits\": \"2\", \"pageviews\": \"2\",...</td>\n      <td>{\"campaign\": \"(not set)\", \"source\": \"(direct)\"...</td>\n      <td>1508201613</td>\n      <td>1</td>\n      <td>1508201613</td>\n    </tr>\n    <tr>\n      <th>3</th>\n      <td>Organic Search</td>\n      <td>[{'index': '4', 'value': 'EMEA'}]</td>\n      <td>20171016</td>\n      <td>{\"browser\": \"Chrome\", \"browserVersion\": \"not a...</td>\n      <td>9075655783635761930</td>\n      <td>{\"continent\": \"Asia\", \"subContinent\": \"Western...</td>\n      <td>[{'hitNumber': '1', 'time': '0', 'hour': '9', ...</td>\n      <td>Not Socially Engaged</td>\n      <td>{\"visits\": \"1\", \"hits\": \"2\", \"pageviews\": \"2\",...</td>\n      <td>{\"campaign\": \"(not set)\", \"source\": \"google\", ...</td>\n      <td>1508169851</td>\n      <td>1</td>\n      <td>1508169851</td>\n    </tr>\n    <tr>\n      <th>4</th>\n      <td>Organic Search</td>\n      <td>[{'index': '4', 'value': 'Central America'}]</td>\n      <td>20171016</td>\n      <td>{\"browser\": \"Chrome\", \"browserVersion\": \"not a...</td>\n      <td>6960673291025684308</td>\n      <td>{\"continent\": \"Americas\", \"subContinent\": \"Cen...</td>\n      <td>[{'hitNumber': '1', 'time': '0', 'hour': '14',...</td>\n      <td>Not Socially Engaged</td>\n      <td>{\"visits\": \"1\", \"hits\": \"2\", \"pageviews\": \"2\",...</td>\n      <td>{\"campaign\": \"(not set)\", \"source\": \"google\", ...</td>\n      <td>1508190552</td>\n      <td>1</td>\n      <td>1508190552</td>\n    </tr>\n  </tbody>\n</table>\n</div>"
          },
          "metadata": {}
        }
      ]
    },
    {
      "metadata": {
        "_uuid": "1b4dcb3e1d7bc68820646e16225313f47d6694ce"
      },
      "cell_type": "markdown",
      "source": "[Someone](https://www.kaggle.com/julian3833/1-quick-start-read-csv-and-flatten-json-fields) opened his kernel to deal with parsing JSON as below."
    },
    {
      "metadata": {
        "trusted": true,
        "_uuid": "9bc6a81fb4de3515b3dd8a97dccb4aae4da24860"
      },
      "cell_type": "code",
      "source": "# https://www.kaggle.com/julian3833/1-quick-start-read-csv-and-flatten-json-fields\n\ndef load_df(csv_path='../input/train.csv', nrows=None):\n    JSON_COLUMNS = ['device', 'geoNetwork', 'totals', 'trafficSource']\n    \n    df = pd.read_csv(csv_path, \n                     converters={column: json.loads for column in JSON_COLUMNS}, \n                     dtype={'fullVisitorId': 'str'}, # Important!!\n                     nrows=nrows)\n    \n    for column in JSON_COLUMNS:\n        column_as_df = json_normalize(df[column])\n        column_as_df.columns = [f\"{column}.{subcolumn}\" for subcolumn in column_as_df.columns]\n        df = df.drop(column, axis=1).merge(column_as_df, right_index=True, left_index=True)\n    print(f\"Loaded {os.path.basename(csv_path)}. Shape: {df.shape}\")\n    return df",
      "execution_count": 7,
      "outputs": []
    },
    {
      "metadata": {
        "trusted": true,
        "_uuid": "a2f37092adeb6fccdcd8da29010a82e7cccb3aff"
      },
      "cell_type": "code",
      "source": "%%time\ntrain = load_df(\"../input/train_v2.csv\",nrows=20000)\ntest = load_df(\"../input/test_v2.csv\")",
      "execution_count": 9,
      "outputs": [
        {
          "output_type": "stream",
          "text": "Loaded train_v2.csv. Shape: (20000, 59)\nLoaded test_v2.csv. Shape: (401589, 59)\nCPU times: user 2min 10s, sys: 11.8 s, total: 2min 22s\nWall time: 2min 24s\n",
          "name": "stdout"
        }
      ]
    },
    {
      "metadata": {
        "_uuid": "ed9be3660525c514ec1bbefd2560eafa3e38f0d5"
      },
      "cell_type": "markdown",
      "source": "After parsing, data looks as below."
    },
    {
      "metadata": {
        "trusted": true,
        "_uuid": "41ec7a172271f966f8f0cb42de91260ef977a514"
      },
      "cell_type": "code",
      "source": "train.head()",
      "execution_count": 10,
      "outputs": [
        {
          "output_type": "execute_result",
          "execution_count": 10,
          "data": {
            "text/plain": "  channelGrouping         ...          trafficSource.source\n0  Organic Search         ...                        google\n1        Referral         ...              sites.google.com\n2          Direct         ...                      (direct)\n3  Organic Search         ...                        google\n4  Organic Search         ...                        google\n\n[5 rows x 59 columns]",
            "text/html": "<div>\n<style scoped>\n    .dataframe tbody tr th:only-of-type {\n        vertical-align: middle;\n    }\n\n    .dataframe tbody tr th {\n        vertical-align: top;\n    }\n\n    .dataframe thead th {\n        text-align: right;\n    }\n</style>\n<table border=\"1\" class=\"dataframe\">\n  <thead>\n    <tr style=\"text-align: right;\">\n      <th></th>\n      <th>channelGrouping</th>\n      <th>customDimensions</th>\n      <th>date</th>\n      <th>fullVisitorId</th>\n      <th>hits</th>\n      <th>socialEngagementType</th>\n      <th>visitId</th>\n      <th>visitNumber</th>\n      <th>visitStartTime</th>\n      <th>device.browser</th>\n      <th>device.browserSize</th>\n      <th>device.browserVersion</th>\n      <th>device.deviceCategory</th>\n      <th>device.flashVersion</th>\n      <th>device.isMobile</th>\n      <th>device.language</th>\n      <th>device.mobileDeviceBranding</th>\n      <th>device.mobileDeviceInfo</th>\n      <th>device.mobileDeviceMarketingName</th>\n      <th>device.mobileDeviceModel</th>\n      <th>device.mobileInputSelector</th>\n      <th>device.operatingSystem</th>\n      <th>device.operatingSystemVersion</th>\n      <th>device.screenColors</th>\n      <th>device.screenResolution</th>\n      <th>geoNetwork.city</th>\n      <th>geoNetwork.cityId</th>\n      <th>geoNetwork.continent</th>\n      <th>geoNetwork.country</th>\n      <th>geoNetwork.latitude</th>\n      <th>geoNetwork.longitude</th>\n      <th>geoNetwork.metro</th>\n      <th>geoNetwork.networkDomain</th>\n      <th>geoNetwork.networkLocation</th>\n      <th>geoNetwork.region</th>\n      <th>geoNetwork.subContinent</th>\n      <th>totals.bounces</th>\n      <th>totals.hits</th>\n      <th>totals.newVisits</th>\n      <th>totals.pageviews</th>\n      <th>totals.sessionQualityDim</th>\n      <th>totals.timeOnSite</th>\n      <th>totals.totalTransactionRevenue</th>\n      <th>totals.transactionRevenue</th>\n      <th>totals.transactions</th>\n      <th>totals.visits</th>\n      <th>trafficSource.adContent</th>\n      <th>trafficSource.adwordsClickInfo.adNetworkType</th>\n      <th>trafficSource.adwordsClickInfo.criteriaParameters</th>\n      <th>trafficSource.adwordsClickInfo.gclId</th>\n      <th>trafficSource.adwordsClickInfo.isVideoAd</th>\n      <th>trafficSource.adwordsClickInfo.page</th>\n      <th>trafficSource.adwordsClickInfo.slot</th>\n      <th>trafficSource.campaign</th>\n      <th>trafficSource.isTrueDirect</th>\n      <th>trafficSource.keyword</th>\n      <th>trafficSource.medium</th>\n      <th>trafficSource.referralPath</th>\n      <th>trafficSource.source</th>\n    </tr>\n  </thead>\n  <tbody>\n    <tr>\n      <th>0</th>\n      <td>Organic Search</td>\n      <td>[{'index': '4', 'value': 'EMEA'}]</td>\n      <td>20171016</td>\n      <td>3162355547410993243</td>\n      <td>[{'hitNumber': '1', 'time': '0', 'hour': '17',...</td>\n      <td>Not Socially Engaged</td>\n      <td>1508198450</td>\n      <td>1</td>\n      <td>1508198450</td>\n      <td>Firefox</td>\n      <td>not available in demo dataset</td>\n      <td>not available in demo dataset</td>\n      <td>desktop</td>\n      <td>not available in demo dataset</td>\n      <td>False</td>\n      <td>not available in demo dataset</td>\n      <td>not available in demo dataset</td>\n      <td>not available in demo dataset</td>\n      <td>not available in demo dataset</td>\n      <td>not available in demo dataset</td>\n      <td>not available in demo dataset</td>\n      <td>Windows</td>\n      <td>not available in demo dataset</td>\n      <td>not available in demo dataset</td>\n      <td>not available in demo dataset</td>\n      <td>not available in demo dataset</td>\n      <td>not available in demo dataset</td>\n      <td>Europe</td>\n      <td>Germany</td>\n      <td>not available in demo dataset</td>\n      <td>not available in demo dataset</td>\n      <td>not available in demo dataset</td>\n      <td>(not set)</td>\n      <td>not available in demo dataset</td>\n      <td>not available in demo dataset</td>\n      <td>Western Europe</td>\n      <td>1</td>\n      <td>1</td>\n      <td>1</td>\n      <td>1</td>\n      <td>1</td>\n      <td>NaN</td>\n      <td>NaN</td>\n      <td>NaN</td>\n      <td>NaN</td>\n      <td>1</td>\n      <td>NaN</td>\n      <td>NaN</td>\n      <td>not available in demo dataset</td>\n      <td>NaN</td>\n      <td>NaN</td>\n      <td>NaN</td>\n      <td>NaN</td>\n      <td>(not set)</td>\n      <td>NaN</td>\n      <td>water bottle</td>\n      <td>organic</td>\n      <td>NaN</td>\n      <td>google</td>\n    </tr>\n    <tr>\n      <th>1</th>\n      <td>Referral</td>\n      <td>[{'index': '4', 'value': 'North America'}]</td>\n      <td>20171016</td>\n      <td>8934116514970143966</td>\n      <td>[{'hitNumber': '1', 'time': '0', 'hour': '10',...</td>\n      <td>Not Socially Engaged</td>\n      <td>1508176307</td>\n      <td>6</td>\n      <td>1508176307</td>\n      <td>Chrome</td>\n      <td>not available in demo dataset</td>\n      <td>not available in demo dataset</td>\n      <td>desktop</td>\n      <td>not available in demo dataset</td>\n      <td>False</td>\n      <td>not available in demo dataset</td>\n      <td>not available in demo dataset</td>\n      <td>not available in demo dataset</td>\n      <td>not available in demo dataset</td>\n      <td>not available in demo dataset</td>\n      <td>not available in demo dataset</td>\n      <td>Chrome OS</td>\n      <td>not available in demo dataset</td>\n      <td>not available in demo dataset</td>\n      <td>not available in demo dataset</td>\n      <td>Cupertino</td>\n      <td>not available in demo dataset</td>\n      <td>Americas</td>\n      <td>United States</td>\n      <td>not available in demo dataset</td>\n      <td>not available in demo dataset</td>\n      <td>San Francisco-Oakland-San Jose CA</td>\n      <td>(not set)</td>\n      <td>not available in demo dataset</td>\n      <td>California</td>\n      <td>Northern America</td>\n      <td>NaN</td>\n      <td>2</td>\n      <td>NaN</td>\n      <td>2</td>\n      <td>2</td>\n      <td>28</td>\n      <td>NaN</td>\n      <td>NaN</td>\n      <td>NaN</td>\n      <td>1</td>\n      <td>NaN</td>\n      <td>NaN</td>\n      <td>not available in demo dataset</td>\n      <td>NaN</td>\n      <td>NaN</td>\n      <td>NaN</td>\n      <td>NaN</td>\n      <td>(not set)</td>\n      <td>NaN</td>\n      <td>NaN</td>\n      <td>referral</td>\n      <td>/a/google.com/transportation/mtv-services/bike...</td>\n      <td>sites.google.com</td>\n    </tr>\n    <tr>\n      <th>2</th>\n      <td>Direct</td>\n      <td>[{'index': '4', 'value': 'North America'}]</td>\n      <td>20171016</td>\n      <td>7992466427990357681</td>\n      <td>[{'hitNumber': '1', 'time': '0', 'hour': '17',...</td>\n      <td>Not Socially Engaged</td>\n      <td>1508201613</td>\n      <td>1</td>\n      <td>1508201613</td>\n      <td>Chrome</td>\n      <td>not available in demo dataset</td>\n      <td>not available in demo dataset</td>\n      <td>mobile</td>\n      <td>not available in demo dataset</td>\n      <td>True</td>\n      <td>not available in demo dataset</td>\n      <td>not available in demo dataset</td>\n      <td>not available in demo dataset</td>\n      <td>not available in demo dataset</td>\n      <td>not available in demo dataset</td>\n      <td>not available in demo dataset</td>\n      <td>Android</td>\n      <td>not available in demo dataset</td>\n      <td>not available in demo dataset</td>\n      <td>not available in demo dataset</td>\n      <td>not available in demo dataset</td>\n      <td>not available in demo dataset</td>\n      <td>Americas</td>\n      <td>United States</td>\n      <td>not available in demo dataset</td>\n      <td>not available in demo dataset</td>\n      <td>not available in demo dataset</td>\n      <td>windjammercable.net</td>\n      <td>not available in demo dataset</td>\n      <td>not available in demo dataset</td>\n      <td>Northern America</td>\n      <td>NaN</td>\n      <td>2</td>\n      <td>1</td>\n      <td>2</td>\n      <td>1</td>\n      <td>38</td>\n      <td>NaN</td>\n      <td>NaN</td>\n      <td>NaN</td>\n      <td>1</td>\n      <td>NaN</td>\n      <td>NaN</td>\n      <td>not available in demo dataset</td>\n      <td>NaN</td>\n      <td>NaN</td>\n      <td>NaN</td>\n      <td>NaN</td>\n      <td>(not set)</td>\n      <td>True</td>\n      <td>NaN</td>\n      <td>(none)</td>\n      <td>NaN</td>\n      <td>(direct)</td>\n    </tr>\n    <tr>\n      <th>3</th>\n      <td>Organic Search</td>\n      <td>[{'index': '4', 'value': 'EMEA'}]</td>\n      <td>20171016</td>\n      <td>9075655783635761930</td>\n      <td>[{'hitNumber': '1', 'time': '0', 'hour': '9', ...</td>\n      <td>Not Socially Engaged</td>\n      <td>1508169851</td>\n      <td>1</td>\n      <td>1508169851</td>\n      <td>Chrome</td>\n      <td>not available in demo dataset</td>\n      <td>not available in demo dataset</td>\n      <td>desktop</td>\n      <td>not available in demo dataset</td>\n      <td>False</td>\n      <td>not available in demo dataset</td>\n      <td>not available in demo dataset</td>\n      <td>not available in demo dataset</td>\n      <td>not available in demo dataset</td>\n      <td>not available in demo dataset</td>\n      <td>not available in demo dataset</td>\n      <td>Windows</td>\n      <td>not available in demo dataset</td>\n      <td>not available in demo dataset</td>\n      <td>not available in demo dataset</td>\n      <td>not available in demo dataset</td>\n      <td>not available in demo dataset</td>\n      <td>Asia</td>\n      <td>Turkey</td>\n      <td>not available in demo dataset</td>\n      <td>not available in demo dataset</td>\n      <td>not available in demo dataset</td>\n      <td>unknown.unknown</td>\n      <td>not available in demo dataset</td>\n      <td>not available in demo dataset</td>\n      <td>Western Asia</td>\n      <td>NaN</td>\n      <td>2</td>\n      <td>1</td>\n      <td>2</td>\n      <td>1</td>\n      <td>1</td>\n      <td>NaN</td>\n      <td>NaN</td>\n      <td>NaN</td>\n      <td>1</td>\n      <td>NaN</td>\n      <td>NaN</td>\n      <td>not available in demo dataset</td>\n      <td>NaN</td>\n      <td>NaN</td>\n      <td>NaN</td>\n      <td>NaN</td>\n      <td>(not set)</td>\n      <td>NaN</td>\n      <td>(not provided)</td>\n      <td>organic</td>\n      <td>NaN</td>\n      <td>google</td>\n    </tr>\n    <tr>\n      <th>4</th>\n      <td>Organic Search</td>\n      <td>[{'index': '4', 'value': 'Central America'}]</td>\n      <td>20171016</td>\n      <td>6960673291025684308</td>\n      <td>[{'hitNumber': '1', 'time': '0', 'hour': '14',...</td>\n      <td>Not Socially Engaged</td>\n      <td>1508190552</td>\n      <td>1</td>\n      <td>1508190552</td>\n      <td>Chrome</td>\n      <td>not available in demo dataset</td>\n      <td>not available in demo dataset</td>\n      <td>desktop</td>\n      <td>not available in demo dataset</td>\n      <td>False</td>\n      <td>not available in demo dataset</td>\n      <td>not available in demo dataset</td>\n      <td>not available in demo dataset</td>\n      <td>not available in demo dataset</td>\n      <td>not available in demo dataset</td>\n      <td>not available in demo dataset</td>\n      <td>Windows</td>\n      <td>not available in demo dataset</td>\n      <td>not available in demo dataset</td>\n      <td>not available in demo dataset</td>\n      <td>not available in demo dataset</td>\n      <td>not available in demo dataset</td>\n      <td>Americas</td>\n      <td>Mexico</td>\n      <td>not available in demo dataset</td>\n      <td>not available in demo dataset</td>\n      <td>not available in demo dataset</td>\n      <td>prod-infinitum.com.mx</td>\n      <td>not available in demo dataset</td>\n      <td>not available in demo dataset</td>\n      <td>Central America</td>\n      <td>NaN</td>\n      <td>2</td>\n      <td>1</td>\n      <td>2</td>\n      <td>1</td>\n      <td>52</td>\n      <td>NaN</td>\n      <td>NaN</td>\n      <td>NaN</td>\n      <td>1</td>\n      <td>NaN</td>\n      <td>NaN</td>\n      <td>not available in demo dataset</td>\n      <td>NaN</td>\n      <td>NaN</td>\n      <td>NaN</td>\n      <td>NaN</td>\n      <td>(not set)</td>\n      <td>NaN</td>\n      <td>(not provided)</td>\n      <td>organic</td>\n      <td>NaN</td>\n      <td>google</td>\n    </tr>\n  </tbody>\n</table>\n</div>"
          },
          "metadata": {}
        }
      ]
    },
    {
      "metadata": {
        "_uuid": "fafd0af83fa005b85dcf613d209a431947792a00"
      },
      "cell_type": "markdown",
      "source": "Adjust NA of 'trafficSource.adwordsClickInfo.isVideoAd' to True\nAdjust NA of 'trafficSource.isTrueDirect' to False\nThen set the date format as yyyy-mm-dd"
    },
    {
      "metadata": {
        "trusted": true,
        "_uuid": "2b4f63b4eb17536238bb580b57f2eb15d4f8c374"
      },
      "cell_type": "code",
      "source": "# some data processing\ntrain['trafficSource.adwordsClickInfo.isVideoAd'].fillna(True, inplace=True)\ntest['trafficSource.adwordsClickInfo.isVideoAd'].fillna(True, inplace=True)\ntrain['trafficSource.isTrueDirect'].fillna(False, inplace=True)\ntest['trafficSource.isTrueDirect'].fillna(False, inplace=True)\n\ntrain['date'] = pd.to_datetime(train['date'].apply(lambda x: str(x)[:4] + '-' + str(x)[4:6] + '-' + str(x)[6:]))\ntest['date'] = pd.to_datetime(test['date'].apply(lambda x: str(x)[:4] + '-' + str(x)[4:6] + '-' + str(x)[6:]))",
      "execution_count": 11,
      "outputs": []
    },
    {
      "metadata": {
        "trusted": true,
        "_uuid": "f3eaca4d47e145cd0fe9fcc8eb7a72105b81a1b9"
      },
      "cell_type": "code",
      "source": "train.head()",
      "execution_count": 12,
      "outputs": [
        {
          "output_type": "execute_result",
          "execution_count": 12,
          "data": {
            "text/plain": "  channelGrouping         ...          trafficSource.source\n0  Organic Search         ...                        google\n1        Referral         ...              sites.google.com\n2          Direct         ...                      (direct)\n3  Organic Search         ...                        google\n4  Organic Search         ...                        google\n\n[5 rows x 59 columns]",
            "text/html": "<div>\n<style scoped>\n    .dataframe tbody tr th:only-of-type {\n        vertical-align: middle;\n    }\n\n    .dataframe tbody tr th {\n        vertical-align: top;\n    }\n\n    .dataframe thead th {\n        text-align: right;\n    }\n</style>\n<table border=\"1\" class=\"dataframe\">\n  <thead>\n    <tr style=\"text-align: right;\">\n      <th></th>\n      <th>channelGrouping</th>\n      <th>customDimensions</th>\n      <th>date</th>\n      <th>fullVisitorId</th>\n      <th>hits</th>\n      <th>socialEngagementType</th>\n      <th>visitId</th>\n      <th>visitNumber</th>\n      <th>visitStartTime</th>\n      <th>device.browser</th>\n      <th>device.browserSize</th>\n      <th>device.browserVersion</th>\n      <th>device.deviceCategory</th>\n      <th>device.flashVersion</th>\n      <th>device.isMobile</th>\n      <th>device.language</th>\n      <th>device.mobileDeviceBranding</th>\n      <th>device.mobileDeviceInfo</th>\n      <th>device.mobileDeviceMarketingName</th>\n      <th>device.mobileDeviceModel</th>\n      <th>device.mobileInputSelector</th>\n      <th>device.operatingSystem</th>\n      <th>device.operatingSystemVersion</th>\n      <th>device.screenColors</th>\n      <th>device.screenResolution</th>\n      <th>geoNetwork.city</th>\n      <th>geoNetwork.cityId</th>\n      <th>geoNetwork.continent</th>\n      <th>geoNetwork.country</th>\n      <th>geoNetwork.latitude</th>\n      <th>geoNetwork.longitude</th>\n      <th>geoNetwork.metro</th>\n      <th>geoNetwork.networkDomain</th>\n      <th>geoNetwork.networkLocation</th>\n      <th>geoNetwork.region</th>\n      <th>geoNetwork.subContinent</th>\n      <th>totals.bounces</th>\n      <th>totals.hits</th>\n      <th>totals.newVisits</th>\n      <th>totals.pageviews</th>\n      <th>totals.sessionQualityDim</th>\n      <th>totals.timeOnSite</th>\n      <th>totals.totalTransactionRevenue</th>\n      <th>totals.transactionRevenue</th>\n      <th>totals.transactions</th>\n      <th>totals.visits</th>\n      <th>trafficSource.adContent</th>\n      <th>trafficSource.adwordsClickInfo.adNetworkType</th>\n      <th>trafficSource.adwordsClickInfo.criteriaParameters</th>\n      <th>trafficSource.adwordsClickInfo.gclId</th>\n      <th>trafficSource.adwordsClickInfo.isVideoAd</th>\n      <th>trafficSource.adwordsClickInfo.page</th>\n      <th>trafficSource.adwordsClickInfo.slot</th>\n      <th>trafficSource.campaign</th>\n      <th>trafficSource.isTrueDirect</th>\n      <th>trafficSource.keyword</th>\n      <th>trafficSource.medium</th>\n      <th>trafficSource.referralPath</th>\n      <th>trafficSource.source</th>\n    </tr>\n  </thead>\n  <tbody>\n    <tr>\n      <th>0</th>\n      <td>Organic Search</td>\n      <td>[{'index': '4', 'value': 'EMEA'}]</td>\n      <td>2017-10-16</td>\n      <td>3162355547410993243</td>\n      <td>[{'hitNumber': '1', 'time': '0', 'hour': '17',...</td>\n      <td>Not Socially Engaged</td>\n      <td>1508198450</td>\n      <td>1</td>\n      <td>1508198450</td>\n      <td>Firefox</td>\n      <td>not available in demo dataset</td>\n      <td>not available in demo dataset</td>\n      <td>desktop</td>\n      <td>not available in demo dataset</td>\n      <td>False</td>\n      <td>not available in demo dataset</td>\n      <td>not available in demo dataset</td>\n      <td>not available in demo dataset</td>\n      <td>not available in demo dataset</td>\n      <td>not available in demo dataset</td>\n      <td>not available in demo dataset</td>\n      <td>Windows</td>\n      <td>not available in demo dataset</td>\n      <td>not available in demo dataset</td>\n      <td>not available in demo dataset</td>\n      <td>not available in demo dataset</td>\n      <td>not available in demo dataset</td>\n      <td>Europe</td>\n      <td>Germany</td>\n      <td>not available in demo dataset</td>\n      <td>not available in demo dataset</td>\n      <td>not available in demo dataset</td>\n      <td>(not set)</td>\n      <td>not available in demo dataset</td>\n      <td>not available in demo dataset</td>\n      <td>Western Europe</td>\n      <td>1</td>\n      <td>1</td>\n      <td>1</td>\n      <td>1</td>\n      <td>1</td>\n      <td>NaN</td>\n      <td>NaN</td>\n      <td>NaN</td>\n      <td>NaN</td>\n      <td>1</td>\n      <td>NaN</td>\n      <td>NaN</td>\n      <td>not available in demo dataset</td>\n      <td>NaN</td>\n      <td>True</td>\n      <td>NaN</td>\n      <td>NaN</td>\n      <td>(not set)</td>\n      <td>False</td>\n      <td>water bottle</td>\n      <td>organic</td>\n      <td>NaN</td>\n      <td>google</td>\n    </tr>\n    <tr>\n      <th>1</th>\n      <td>Referral</td>\n      <td>[{'index': '4', 'value': 'North America'}]</td>\n      <td>2017-10-16</td>\n      <td>8934116514970143966</td>\n      <td>[{'hitNumber': '1', 'time': '0', 'hour': '10',...</td>\n      <td>Not Socially Engaged</td>\n      <td>1508176307</td>\n      <td>6</td>\n      <td>1508176307</td>\n      <td>Chrome</td>\n      <td>not available in demo dataset</td>\n      <td>not available in demo dataset</td>\n      <td>desktop</td>\n      <td>not available in demo dataset</td>\n      <td>False</td>\n      <td>not available in demo dataset</td>\n      <td>not available in demo dataset</td>\n      <td>not available in demo dataset</td>\n      <td>not available in demo dataset</td>\n      <td>not available in demo dataset</td>\n      <td>not available in demo dataset</td>\n      <td>Chrome OS</td>\n      <td>not available in demo dataset</td>\n      <td>not available in demo dataset</td>\n      <td>not available in demo dataset</td>\n      <td>Cupertino</td>\n      <td>not available in demo dataset</td>\n      <td>Americas</td>\n      <td>United States</td>\n      <td>not available in demo dataset</td>\n      <td>not available in demo dataset</td>\n      <td>San Francisco-Oakland-San Jose CA</td>\n      <td>(not set)</td>\n      <td>not available in demo dataset</td>\n      <td>California</td>\n      <td>Northern America</td>\n      <td>NaN</td>\n      <td>2</td>\n      <td>NaN</td>\n      <td>2</td>\n      <td>2</td>\n      <td>28</td>\n      <td>NaN</td>\n      <td>NaN</td>\n      <td>NaN</td>\n      <td>1</td>\n      <td>NaN</td>\n      <td>NaN</td>\n      <td>not available in demo dataset</td>\n      <td>NaN</td>\n      <td>True</td>\n      <td>NaN</td>\n      <td>NaN</td>\n      <td>(not set)</td>\n      <td>False</td>\n      <td>NaN</td>\n      <td>referral</td>\n      <td>/a/google.com/transportation/mtv-services/bike...</td>\n      <td>sites.google.com</td>\n    </tr>\n    <tr>\n      <th>2</th>\n      <td>Direct</td>\n      <td>[{'index': '4', 'value': 'North America'}]</td>\n      <td>2017-10-16</td>\n      <td>7992466427990357681</td>\n      <td>[{'hitNumber': '1', 'time': '0', 'hour': '17',...</td>\n      <td>Not Socially Engaged</td>\n      <td>1508201613</td>\n      <td>1</td>\n      <td>1508201613</td>\n      <td>Chrome</td>\n      <td>not available in demo dataset</td>\n      <td>not available in demo dataset</td>\n      <td>mobile</td>\n      <td>not available in demo dataset</td>\n      <td>True</td>\n      <td>not available in demo dataset</td>\n      <td>not available in demo dataset</td>\n      <td>not available in demo dataset</td>\n      <td>not available in demo dataset</td>\n      <td>not available in demo dataset</td>\n      <td>not available in demo dataset</td>\n      <td>Android</td>\n      <td>not available in demo dataset</td>\n      <td>not available in demo dataset</td>\n      <td>not available in demo dataset</td>\n      <td>not available in demo dataset</td>\n      <td>not available in demo dataset</td>\n      <td>Americas</td>\n      <td>United States</td>\n      <td>not available in demo dataset</td>\n      <td>not available in demo dataset</td>\n      <td>not available in demo dataset</td>\n      <td>windjammercable.net</td>\n      <td>not available in demo dataset</td>\n      <td>not available in demo dataset</td>\n      <td>Northern America</td>\n      <td>NaN</td>\n      <td>2</td>\n      <td>1</td>\n      <td>2</td>\n      <td>1</td>\n      <td>38</td>\n      <td>NaN</td>\n      <td>NaN</td>\n      <td>NaN</td>\n      <td>1</td>\n      <td>NaN</td>\n      <td>NaN</td>\n      <td>not available in demo dataset</td>\n      <td>NaN</td>\n      <td>True</td>\n      <td>NaN</td>\n      <td>NaN</td>\n      <td>(not set)</td>\n      <td>True</td>\n      <td>NaN</td>\n      <td>(none)</td>\n      <td>NaN</td>\n      <td>(direct)</td>\n    </tr>\n    <tr>\n      <th>3</th>\n      <td>Organic Search</td>\n      <td>[{'index': '4', 'value': 'EMEA'}]</td>\n      <td>2017-10-16</td>\n      <td>9075655783635761930</td>\n      <td>[{'hitNumber': '1', 'time': '0', 'hour': '9', ...</td>\n      <td>Not Socially Engaged</td>\n      <td>1508169851</td>\n      <td>1</td>\n      <td>1508169851</td>\n      <td>Chrome</td>\n      <td>not available in demo dataset</td>\n      <td>not available in demo dataset</td>\n      <td>desktop</td>\n      <td>not available in demo dataset</td>\n      <td>False</td>\n      <td>not available in demo dataset</td>\n      <td>not available in demo dataset</td>\n      <td>not available in demo dataset</td>\n      <td>not available in demo dataset</td>\n      <td>not available in demo dataset</td>\n      <td>not available in demo dataset</td>\n      <td>Windows</td>\n      <td>not available in demo dataset</td>\n      <td>not available in demo dataset</td>\n      <td>not available in demo dataset</td>\n      <td>not available in demo dataset</td>\n      <td>not available in demo dataset</td>\n      <td>Asia</td>\n      <td>Turkey</td>\n      <td>not available in demo dataset</td>\n      <td>not available in demo dataset</td>\n      <td>not available in demo dataset</td>\n      <td>unknown.unknown</td>\n      <td>not available in demo dataset</td>\n      <td>not available in demo dataset</td>\n      <td>Western Asia</td>\n      <td>NaN</td>\n      <td>2</td>\n      <td>1</td>\n      <td>2</td>\n      <td>1</td>\n      <td>1</td>\n      <td>NaN</td>\n      <td>NaN</td>\n      <td>NaN</td>\n      <td>1</td>\n      <td>NaN</td>\n      <td>NaN</td>\n      <td>not available in demo dataset</td>\n      <td>NaN</td>\n      <td>True</td>\n      <td>NaN</td>\n      <td>NaN</td>\n      <td>(not set)</td>\n      <td>False</td>\n      <td>(not provided)</td>\n      <td>organic</td>\n      <td>NaN</td>\n      <td>google</td>\n    </tr>\n    <tr>\n      <th>4</th>\n      <td>Organic Search</td>\n      <td>[{'index': '4', 'value': 'Central America'}]</td>\n      <td>2017-10-16</td>\n      <td>6960673291025684308</td>\n      <td>[{'hitNumber': '1', 'time': '0', 'hour': '14',...</td>\n      <td>Not Socially Engaged</td>\n      <td>1508190552</td>\n      <td>1</td>\n      <td>1508190552</td>\n      <td>Chrome</td>\n      <td>not available in demo dataset</td>\n      <td>not available in demo dataset</td>\n      <td>desktop</td>\n      <td>not available in demo dataset</td>\n      <td>False</td>\n      <td>not available in demo dataset</td>\n      <td>not available in demo dataset</td>\n      <td>not available in demo dataset</td>\n      <td>not available in demo dataset</td>\n      <td>not available in demo dataset</td>\n      <td>not available in demo dataset</td>\n      <td>Windows</td>\n      <td>not available in demo dataset</td>\n      <td>not available in demo dataset</td>\n      <td>not available in demo dataset</td>\n      <td>not available in demo dataset</td>\n      <td>not available in demo dataset</td>\n      <td>Americas</td>\n      <td>Mexico</td>\n      <td>not available in demo dataset</td>\n      <td>not available in demo dataset</td>\n      <td>not available in demo dataset</td>\n      <td>prod-infinitum.com.mx</td>\n      <td>not available in demo dataset</td>\n      <td>not available in demo dataset</td>\n      <td>Central America</td>\n      <td>NaN</td>\n      <td>2</td>\n      <td>1</td>\n      <td>2</td>\n      <td>1</td>\n      <td>52</td>\n      <td>NaN</td>\n      <td>NaN</td>\n      <td>NaN</td>\n      <td>1</td>\n      <td>NaN</td>\n      <td>NaN</td>\n      <td>not available in demo dataset</td>\n      <td>NaN</td>\n      <td>True</td>\n      <td>NaN</td>\n      <td>NaN</td>\n      <td>(not set)</td>\n      <td>False</td>\n      <td>(not provided)</td>\n      <td>organic</td>\n      <td>NaN</td>\n      <td>google</td>\n    </tr>\n  </tbody>\n</table>\n</div>"
          },
          "metadata": {}
        }
      ]
    },
    {
      "metadata": {
        "_uuid": "ce0fd1d2701e9f8919af3b3042dd448e743f2d68"
      },
      "cell_type": "markdown",
      "source": "**Data Exploration**"
    },
    {
      "metadata": {
        "_uuid": "6e3f386e92ee6e38333529d16c55a0b750db5cf4"
      },
      "cell_type": "markdown",
      "source": "At first drop some useless columns that has only one variables like 'socialEngagementType'\nAs below, the number of unique variable in 'socialEngagementType' is 1."
    },
    {
      "metadata": {
        "trusted": true,
        "_uuid": "ec3ca1e1524e835f5a2c5e065d49f2c29dfb4438"
      },
      "cell_type": "code",
      "source": "train['socialEngagementType'].nunique(dropna=False)",
      "execution_count": 21,
      "outputs": [
        {
          "output_type": "execute_result",
          "execution_count": 21,
          "data": {
            "text/plain": "1"
          },
          "metadata": {}
        }
      ]
    },
    {
      "metadata": {
        "trusted": true,
        "_uuid": "f3e608be6e4d41bd556e5315c09d1108c697b494"
      },
      "cell_type": "code",
      "source": "cols_to_drop = [col for col in train.columns if train[col].nunique(dropna=False) == 1]\ntrain.drop(cols_to_drop, axis=1, inplace=True)\ntest.drop([col for col in cols_to_drop if col in test.columns], axis=1, inplace=True)\n\nprint(f'Dropped {len(cols_to_drop)} columns.')",
      "execution_count": 22,
      "outputs": [
        {
          "output_type": "stream",
          "text": "Dropped 19 columns.\n",
          "name": "stdout"
        }
      ]
    },
    {
      "metadata": {
        "_uuid": "3a117b3abf18df63bde8e83f24c0c169db65bd5b"
      },
      "cell_type": "markdown",
      "source": "Change some variables into float data"
    },
    {
      "metadata": {
        "trusted": true,
        "_uuid": "da2d26d54e9cf865ce0ef8d200a9ca452e31d9a3"
      },
      "cell_type": "code",
      "source": "for col in ['visitNumber', 'totals.hits', 'totals.pageviews', 'totals.transactionRevenue']:\n    train[col] = train[col].astype(float)",
      "execution_count": 23,
      "outputs": []
    },
    {
      "metadata": {
        "_uuid": "752729cde213aedf7c4fb0ac034c029057f8424d"
      },
      "cell_type": "markdown",
      "source": "Drop some features"
    },
    {
      "metadata": {
        "trusted": true,
        "_uuid": "ed4b5997c8039cd2f55a8949a3df2ba1b11894af"
      },
      "cell_type": "code",
      "source": "train.drop(['customDimensions', 'hits', 'trafficSource.referralPath', 'trafficSource.source', 'totals.totalTransactionRevenue'], axis=1, inplace=True)\ntest.drop(['customDimensions', 'hits', 'trafficSource.referralPath', 'trafficSource.source', 'totals.totalTransactionRevenue'], axis=1, inplace=True)",
      "execution_count": 24,
      "outputs": []
    },
    {
      "metadata": {
        "_uuid": "9f7b2c30794cb8610f9f8a0aa55d0b8bfc7996af"
      },
      "cell_type": "markdown",
      "source": "This data seems moe simple and looks better."
    },
    {
      "metadata": {
        "trusted": true,
        "scrolled": true,
        "_uuid": "60c80abbccb404f156e29d67388b1198eaaff841"
      },
      "cell_type": "code",
      "source": "train.head()",
      "execution_count": 25,
      "outputs": [
        {
          "output_type": "execute_result",
          "execution_count": 25,
          "data": {
            "text/plain": "  channelGrouping         ...          trafficSource.medium\n0  Organic Search         ...                       organic\n1        Referral         ...                      referral\n2          Direct         ...                        (none)\n3  Organic Search         ...                       organic\n4  Organic Search         ...                       organic\n\n[5 rows x 35 columns]",
            "text/html": "<div>\n<style scoped>\n    .dataframe tbody tr th:only-of-type {\n        vertical-align: middle;\n    }\n\n    .dataframe tbody tr th {\n        vertical-align: top;\n    }\n\n    .dataframe thead th {\n        text-align: right;\n    }\n</style>\n<table border=\"1\" class=\"dataframe\">\n  <thead>\n    <tr style=\"text-align: right;\">\n      <th></th>\n      <th>channelGrouping</th>\n      <th>date</th>\n      <th>fullVisitorId</th>\n      <th>visitId</th>\n      <th>visitNumber</th>\n      <th>visitStartTime</th>\n      <th>device.browser</th>\n      <th>device.deviceCategory</th>\n      <th>device.isMobile</th>\n      <th>device.operatingSystem</th>\n      <th>geoNetwork.city</th>\n      <th>geoNetwork.continent</th>\n      <th>geoNetwork.country</th>\n      <th>geoNetwork.metro</th>\n      <th>geoNetwork.networkDomain</th>\n      <th>geoNetwork.region</th>\n      <th>geoNetwork.subContinent</th>\n      <th>totals.bounces</th>\n      <th>totals.hits</th>\n      <th>totals.newVisits</th>\n      <th>totals.pageviews</th>\n      <th>totals.sessionQualityDim</th>\n      <th>totals.timeOnSite</th>\n      <th>totals.transactionRevenue</th>\n      <th>totals.transactions</th>\n      <th>trafficSource.adContent</th>\n      <th>trafficSource.adwordsClickInfo.adNetworkType</th>\n      <th>trafficSource.adwordsClickInfo.gclId</th>\n      <th>trafficSource.adwordsClickInfo.isVideoAd</th>\n      <th>trafficSource.adwordsClickInfo.page</th>\n      <th>trafficSource.adwordsClickInfo.slot</th>\n      <th>trafficSource.campaign</th>\n      <th>trafficSource.isTrueDirect</th>\n      <th>trafficSource.keyword</th>\n      <th>trafficSource.medium</th>\n    </tr>\n  </thead>\n  <tbody>\n    <tr>\n      <th>0</th>\n      <td>Organic Search</td>\n      <td>2017-10-16</td>\n      <td>3162355547410993243</td>\n      <td>1508198450</td>\n      <td>1.0</td>\n      <td>1508198450</td>\n      <td>Firefox</td>\n      <td>desktop</td>\n      <td>False</td>\n      <td>Windows</td>\n      <td>not available in demo dataset</td>\n      <td>Europe</td>\n      <td>Germany</td>\n      <td>not available in demo dataset</td>\n      <td>(not set)</td>\n      <td>not available in demo dataset</td>\n      <td>Western Europe</td>\n      <td>1</td>\n      <td>1.0</td>\n      <td>1</td>\n      <td>1.0</td>\n      <td>1</td>\n      <td>NaN</td>\n      <td>NaN</td>\n      <td>NaN</td>\n      <td>NaN</td>\n      <td>NaN</td>\n      <td>NaN</td>\n      <td>True</td>\n      <td>NaN</td>\n      <td>NaN</td>\n      <td>(not set)</td>\n      <td>False</td>\n      <td>water bottle</td>\n      <td>organic</td>\n    </tr>\n    <tr>\n      <th>1</th>\n      <td>Referral</td>\n      <td>2017-10-16</td>\n      <td>8934116514970143966</td>\n      <td>1508176307</td>\n      <td>6.0</td>\n      <td>1508176307</td>\n      <td>Chrome</td>\n      <td>desktop</td>\n      <td>False</td>\n      <td>Chrome OS</td>\n      <td>Cupertino</td>\n      <td>Americas</td>\n      <td>United States</td>\n      <td>San Francisco-Oakland-San Jose CA</td>\n      <td>(not set)</td>\n      <td>California</td>\n      <td>Northern America</td>\n      <td>NaN</td>\n      <td>2.0</td>\n      <td>NaN</td>\n      <td>2.0</td>\n      <td>2</td>\n      <td>28</td>\n      <td>NaN</td>\n      <td>NaN</td>\n      <td>NaN</td>\n      <td>NaN</td>\n      <td>NaN</td>\n      <td>True</td>\n      <td>NaN</td>\n      <td>NaN</td>\n      <td>(not set)</td>\n      <td>False</td>\n      <td>NaN</td>\n      <td>referral</td>\n    </tr>\n    <tr>\n      <th>2</th>\n      <td>Direct</td>\n      <td>2017-10-16</td>\n      <td>7992466427990357681</td>\n      <td>1508201613</td>\n      <td>1.0</td>\n      <td>1508201613</td>\n      <td>Chrome</td>\n      <td>mobile</td>\n      <td>True</td>\n      <td>Android</td>\n      <td>not available in demo dataset</td>\n      <td>Americas</td>\n      <td>United States</td>\n      <td>not available in demo dataset</td>\n      <td>windjammercable.net</td>\n      <td>not available in demo dataset</td>\n      <td>Northern America</td>\n      <td>NaN</td>\n      <td>2.0</td>\n      <td>1</td>\n      <td>2.0</td>\n      <td>1</td>\n      <td>38</td>\n      <td>NaN</td>\n      <td>NaN</td>\n      <td>NaN</td>\n      <td>NaN</td>\n      <td>NaN</td>\n      <td>True</td>\n      <td>NaN</td>\n      <td>NaN</td>\n      <td>(not set)</td>\n      <td>True</td>\n      <td>NaN</td>\n      <td>(none)</td>\n    </tr>\n    <tr>\n      <th>3</th>\n      <td>Organic Search</td>\n      <td>2017-10-16</td>\n      <td>9075655783635761930</td>\n      <td>1508169851</td>\n      <td>1.0</td>\n      <td>1508169851</td>\n      <td>Chrome</td>\n      <td>desktop</td>\n      <td>False</td>\n      <td>Windows</td>\n      <td>not available in demo dataset</td>\n      <td>Asia</td>\n      <td>Turkey</td>\n      <td>not available in demo dataset</td>\n      <td>unknown.unknown</td>\n      <td>not available in demo dataset</td>\n      <td>Western Asia</td>\n      <td>NaN</td>\n      <td>2.0</td>\n      <td>1</td>\n      <td>2.0</td>\n      <td>1</td>\n      <td>1</td>\n      <td>NaN</td>\n      <td>NaN</td>\n      <td>NaN</td>\n      <td>NaN</td>\n      <td>NaN</td>\n      <td>True</td>\n      <td>NaN</td>\n      <td>NaN</td>\n      <td>(not set)</td>\n      <td>False</td>\n      <td>(not provided)</td>\n      <td>organic</td>\n    </tr>\n    <tr>\n      <th>4</th>\n      <td>Organic Search</td>\n      <td>2017-10-16</td>\n      <td>6960673291025684308</td>\n      <td>1508190552</td>\n      <td>1.0</td>\n      <td>1508190552</td>\n      <td>Chrome</td>\n      <td>desktop</td>\n      <td>False</td>\n      <td>Windows</td>\n      <td>not available in demo dataset</td>\n      <td>Americas</td>\n      <td>Mexico</td>\n      <td>not available in demo dataset</td>\n      <td>prod-infinitum.com.mx</td>\n      <td>not available in demo dataset</td>\n      <td>Central America</td>\n      <td>NaN</td>\n      <td>2.0</td>\n      <td>1</td>\n      <td>2.0</td>\n      <td>1</td>\n      <td>52</td>\n      <td>NaN</td>\n      <td>NaN</td>\n      <td>NaN</td>\n      <td>NaN</td>\n      <td>NaN</td>\n      <td>True</td>\n      <td>NaN</td>\n      <td>NaN</td>\n      <td>(not set)</td>\n      <td>False</td>\n      <td>(not provided)</td>\n      <td>organic</td>\n    </tr>\n  </tbody>\n</table>\n</div>"
          },
          "metadata": {}
        }
      ]
    },
    {
      "metadata": {
        "_kg_hide-output": true,
        "_uuid": "87a5e1b375e901943db193362bcdd87949fb8b35"
      },
      "cell_type": "markdown",
      "source": "Let's see the revenue of each visitor."
    },
    {
      "metadata": {
        "trusted": true,
        "_uuid": "d0b32a3ba4d0ad757ea9e7c1cda9e850541b5d08"
      },
      "cell_type": "code",
      "source": "gdf = train.groupby(\"fullVisitorId\")[\"totals.transactionRevenue\"].sum().reset_index()\ngdf",
      "execution_count": 33,
      "outputs": [
        {
          "output_type": "execute_result",
          "execution_count": 33,
          "data": {
            "text/plain": "             fullVisitorId  totals.transactionRevenue\n0      0000245437374675368                        0.0\n1      0000593255797039768                        0.0\n2      0000750929315523353                        0.0\n3      0001191766179392657                        0.0\n4      0003631840334189025                        0.0\n5      0004374401845204055                        0.0\n6      0004803397127474847                        0.0\n7      0005096736076850458                        0.0\n8      0005694527603480368                        0.0\n9      0006008740756625566                        0.0\n10      000696790665307308                        0.0\n11     0007260779429878437                        0.0\n12     0007950316107280774                        0.0\n13     0010083509256769914                        0.0\n14      001029705998137886                        0.0\n15     0010963369995236287                        0.0\n16      001175731479841406                        0.0\n17     0011968309104564603                        0.0\n18     0012276352424581690                        0.0\n19     0012502660755439978                        0.0\n20     0013232932172978597                        0.0\n21     0013251180141982691                        0.0\n22     0015065858137292339                        0.0\n23     0015337730619764512                        0.0\n24     0015760366587722864                        0.0\n25      001610506583269057                        0.0\n26     0017080557459969450                        0.0\n27     0017283111661283752                        0.0\n28     0018131669611141208                        0.0\n29     0018840104218766202                        0.0\n...                    ...                        ...\n18354   998371380535499306                        0.0\n18355  9984810428491761529                        0.0\n18356  9985057961781074942                        0.0\n18357  9985743993259949112                        0.0\n18358  9986078360730617079                        0.0\n18359  9986652581850145609                        0.0\n18360  9986859331291240747                        0.0\n18361  9987056085213279488                        0.0\n18362  9987626919759715461                        0.0\n18363  9987921523509618775                        0.0\n18364  9988114167332507224                        0.0\n18365  9988851642285467329                        0.0\n18366  9989175626794898064                 17590000.0\n18367  9989327425394454836                        0.0\n18368  9989355796381906869                        0.0\n18369  9989571451511394866                        0.0\n18370  9989981845873742564                        0.0\n18371  9990175807400931122                        0.0\n18372  9990658882481445629                        0.0\n18373   999129537146719000                        0.0\n18374  9991428295202127010                        0.0\n18375   999151229155004780                        0.0\n18376  9991882289486375263                        0.0\n18377  9993372776950522771                        0.0\n18378  9996018333110892344                        0.0\n18379  9996276006553512804                        0.0\n18380  9996784935330462631                        0.0\n18381    99976789209401933                        0.0\n18382    99980903580581121                        0.0\n18383  9999250019952621738                        0.0\n\n[18384 rows x 2 columns]",
            "text/html": "<div>\n<style scoped>\n    .dataframe tbody tr th:only-of-type {\n        vertical-align: middle;\n    }\n\n    .dataframe tbody tr th {\n        vertical-align: top;\n    }\n\n    .dataframe thead th {\n        text-align: right;\n    }\n</style>\n<table border=\"1\" class=\"dataframe\">\n  <thead>\n    <tr style=\"text-align: right;\">\n      <th></th>\n      <th>fullVisitorId</th>\n      <th>totals.transactionRevenue</th>\n    </tr>\n  </thead>\n  <tbody>\n    <tr>\n      <th>0</th>\n      <td>0000245437374675368</td>\n      <td>0.0</td>\n    </tr>\n    <tr>\n      <th>1</th>\n      <td>0000593255797039768</td>\n      <td>0.0</td>\n    </tr>\n    <tr>\n      <th>2</th>\n      <td>0000750929315523353</td>\n      <td>0.0</td>\n    </tr>\n    <tr>\n      <th>3</th>\n      <td>0001191766179392657</td>\n      <td>0.0</td>\n    </tr>\n    <tr>\n      <th>4</th>\n      <td>0003631840334189025</td>\n      <td>0.0</td>\n    </tr>\n    <tr>\n      <th>5</th>\n      <td>0004374401845204055</td>\n      <td>0.0</td>\n    </tr>\n    <tr>\n      <th>6</th>\n      <td>0004803397127474847</td>\n      <td>0.0</td>\n    </tr>\n    <tr>\n      <th>7</th>\n      <td>0005096736076850458</td>\n      <td>0.0</td>\n    </tr>\n    <tr>\n      <th>8</th>\n      <td>0005694527603480368</td>\n      <td>0.0</td>\n    </tr>\n    <tr>\n      <th>9</th>\n      <td>0006008740756625566</td>\n      <td>0.0</td>\n    </tr>\n    <tr>\n      <th>10</th>\n      <td>000696790665307308</td>\n      <td>0.0</td>\n    </tr>\n    <tr>\n      <th>11</th>\n      <td>0007260779429878437</td>\n      <td>0.0</td>\n    </tr>\n    <tr>\n      <th>12</th>\n      <td>0007950316107280774</td>\n      <td>0.0</td>\n    </tr>\n    <tr>\n      <th>13</th>\n      <td>0010083509256769914</td>\n      <td>0.0</td>\n    </tr>\n    <tr>\n      <th>14</th>\n      <td>001029705998137886</td>\n      <td>0.0</td>\n    </tr>\n    <tr>\n      <th>15</th>\n      <td>0010963369995236287</td>\n      <td>0.0</td>\n    </tr>\n    <tr>\n      <th>16</th>\n      <td>001175731479841406</td>\n      <td>0.0</td>\n    </tr>\n    <tr>\n      <th>17</th>\n      <td>0011968309104564603</td>\n      <td>0.0</td>\n    </tr>\n    <tr>\n      <th>18</th>\n      <td>0012276352424581690</td>\n      <td>0.0</td>\n    </tr>\n    <tr>\n      <th>19</th>\n      <td>0012502660755439978</td>\n      <td>0.0</td>\n    </tr>\n    <tr>\n      <th>20</th>\n      <td>0013232932172978597</td>\n      <td>0.0</td>\n    </tr>\n    <tr>\n      <th>21</th>\n      <td>0013251180141982691</td>\n      <td>0.0</td>\n    </tr>\n    <tr>\n      <th>22</th>\n      <td>0015065858137292339</td>\n      <td>0.0</td>\n    </tr>\n    <tr>\n      <th>23</th>\n      <td>0015337730619764512</td>\n      <td>0.0</td>\n    </tr>\n    <tr>\n      <th>24</th>\n      <td>0015760366587722864</td>\n      <td>0.0</td>\n    </tr>\n    <tr>\n      <th>25</th>\n      <td>001610506583269057</td>\n      <td>0.0</td>\n    </tr>\n    <tr>\n      <th>26</th>\n      <td>0017080557459969450</td>\n      <td>0.0</td>\n    </tr>\n    <tr>\n      <th>27</th>\n      <td>0017283111661283752</td>\n      <td>0.0</td>\n    </tr>\n    <tr>\n      <th>28</th>\n      <td>0018131669611141208</td>\n      <td>0.0</td>\n    </tr>\n    <tr>\n      <th>29</th>\n      <td>0018840104218766202</td>\n      <td>0.0</td>\n    </tr>\n    <tr>\n      <th>...</th>\n      <td>...</td>\n      <td>...</td>\n    </tr>\n    <tr>\n      <th>18354</th>\n      <td>998371380535499306</td>\n      <td>0.0</td>\n    </tr>\n    <tr>\n      <th>18355</th>\n      <td>9984810428491761529</td>\n      <td>0.0</td>\n    </tr>\n    <tr>\n      <th>18356</th>\n      <td>9985057961781074942</td>\n      <td>0.0</td>\n    </tr>\n    <tr>\n      <th>18357</th>\n      <td>9985743993259949112</td>\n      <td>0.0</td>\n    </tr>\n    <tr>\n      <th>18358</th>\n      <td>9986078360730617079</td>\n      <td>0.0</td>\n    </tr>\n    <tr>\n      <th>18359</th>\n      <td>9986652581850145609</td>\n      <td>0.0</td>\n    </tr>\n    <tr>\n      <th>18360</th>\n      <td>9986859331291240747</td>\n      <td>0.0</td>\n    </tr>\n    <tr>\n      <th>18361</th>\n      <td>9987056085213279488</td>\n      <td>0.0</td>\n    </tr>\n    <tr>\n      <th>18362</th>\n      <td>9987626919759715461</td>\n      <td>0.0</td>\n    </tr>\n    <tr>\n      <th>18363</th>\n      <td>9987921523509618775</td>\n      <td>0.0</td>\n    </tr>\n    <tr>\n      <th>18364</th>\n      <td>9988114167332507224</td>\n      <td>0.0</td>\n    </tr>\n    <tr>\n      <th>18365</th>\n      <td>9988851642285467329</td>\n      <td>0.0</td>\n    </tr>\n    <tr>\n      <th>18366</th>\n      <td>9989175626794898064</td>\n      <td>17590000.0</td>\n    </tr>\n    <tr>\n      <th>18367</th>\n      <td>9989327425394454836</td>\n      <td>0.0</td>\n    </tr>\n    <tr>\n      <th>18368</th>\n      <td>9989355796381906869</td>\n      <td>0.0</td>\n    </tr>\n    <tr>\n      <th>18369</th>\n      <td>9989571451511394866</td>\n      <td>0.0</td>\n    </tr>\n    <tr>\n      <th>18370</th>\n      <td>9989981845873742564</td>\n      <td>0.0</td>\n    </tr>\n    <tr>\n      <th>18371</th>\n      <td>9990175807400931122</td>\n      <td>0.0</td>\n    </tr>\n    <tr>\n      <th>18372</th>\n      <td>9990658882481445629</td>\n      <td>0.0</td>\n    </tr>\n    <tr>\n      <th>18373</th>\n      <td>999129537146719000</td>\n      <td>0.0</td>\n    </tr>\n    <tr>\n      <th>18374</th>\n      <td>9991428295202127010</td>\n      <td>0.0</td>\n    </tr>\n    <tr>\n      <th>18375</th>\n      <td>999151229155004780</td>\n      <td>0.0</td>\n    </tr>\n    <tr>\n      <th>18376</th>\n      <td>9991882289486375263</td>\n      <td>0.0</td>\n    </tr>\n    <tr>\n      <th>18377</th>\n      <td>9993372776950522771</td>\n      <td>0.0</td>\n    </tr>\n    <tr>\n      <th>18378</th>\n      <td>9996018333110892344</td>\n      <td>0.0</td>\n    </tr>\n    <tr>\n      <th>18379</th>\n      <td>9996276006553512804</td>\n      <td>0.0</td>\n    </tr>\n    <tr>\n      <th>18380</th>\n      <td>9996784935330462631</td>\n      <td>0.0</td>\n    </tr>\n    <tr>\n      <th>18381</th>\n      <td>99976789209401933</td>\n      <td>0.0</td>\n    </tr>\n    <tr>\n      <th>18382</th>\n      <td>99980903580581121</td>\n      <td>0.0</td>\n    </tr>\n    <tr>\n      <th>18383</th>\n      <td>9999250019952621738</td>\n      <td>0.0</td>\n    </tr>\n  </tbody>\n</table>\n<p>18384 rows × 2 columns</p>\n</div>"
          },
          "metadata": {}
        }
      ]
    },
    {
      "metadata": {
        "_uuid": "c44ffdb09eb886c700c682b527d00cca81695bcd"
      },
      "cell_type": "markdown",
      "source": "Make a graph with the table above, sorting with logarithm of revenue.\nThe graph shows very low percent of visitors make almost revenue."
    },
    {
      "metadata": {
        "trusted": true,
        "_uuid": "194762757a76745ddc5eb90671cc230d22a63d89"
      },
      "cell_type": "code",
      "source": "plt.figure(figsize=(8,6))\nplt.scatter(range(gdf.shape[0]), np.sort(np.log1p(gdf[\"totals.transactionRevenue\"].values)))\nplt.xlabel('index', fontsize=12)\nplt.ylabel('TransactionRevenue', fontsize=12)\nplt.show()",
      "execution_count": 39,
      "outputs": [
        {
          "output_type": "display_data",
          "data": {
            "text/plain": "<Figure size 576x432 with 1 Axes>",
            "image/png": "[encoded data removed]"
          },
          "metadata": {}
        }
      ]
    },
    {
      "metadata": {
        "trusted": true,
        "_uuid": "ffd4a634ca542df1c645b364668662ebd899aa3e"
      },
      "cell_type": "code",
      "source": "pd.notnull(train[\"totals.transactionRevenue\"])",
      "execution_count": 40,
      "outputs": [
        {
          "output_type": "execute_result",
          "execution_count": 40,
          "data": {
            "text/plain": "0        False\n1        False\n2        False\n3        False\n4        False\n5        False\n6        False\n7        False\n8        False\n9        False\n10       False\n11       False\n12       False\n13       False\n14       False\n15       False\n16       False\n17       False\n18       False\n19       False\n20       False\n21       False\n22       False\n23       False\n24       False\n25       False\n26       False\n27       False\n28       False\n29       False\n         ...  \n19970    False\n19971    False\n19972    False\n19973    False\n19974    False\n19975    False\n19976    False\n19977    False\n19978    False\n19979    False\n19980    False\n19981    False\n19982    False\n19983    False\n19984    False\n19985    False\n19986    False\n19987    False\n19988    False\n19989    False\n19990    False\n19991    False\n19992    False\n19993    False\n19994    False\n19995    False\n19996    False\n19997    False\n19998    False\n19999    False\nName: totals.transactionRevenue, Length: 20000, dtype: bool"
          },
          "metadata": {}
        }
      ]
    },
    {
      "metadata": {
        "_uuid": "a8258132bb346108f8770d98ef3d34f33701be2f"
      },
      "cell_type": "markdown",
      "source": "After calculating the ratio of real users, it shows only 1.03% of users make revenue through transaction"
    },
    {
      "metadata": {
        "trusted": true,
        "_uuid": "e1a41b853d23ad5e03d3fea2aff3796aafc54539"
      },
      "cell_type": "code",
      "source": "print(\"Number of unique customers with non-zero revenue : \", (gdf[\"totals.transactionRevenue\"]>0).sum(), \"and the ratio is : \", round(100*(gdf[\"totals.transactionRevenue\"]>0).sum() / gdf.shape[0],2),\"%\")",
      "execution_count": 50,
      "outputs": [
        {
          "output_type": "stream",
          "text": "Number of unique customers with non-zero revenue :  189 and the ratio is :  1.03 %\n",
          "name": "stdout"
        }
      ]
    },
    {
      "metadata": {
        "_uuid": "28d0f79608263720c228fd2c402a0fbfdf6adfe1"
      },
      "cell_type": "markdown",
      "source": "Let's look at how many users visit how many times.\nIt shows about 92% are unique users and only 8% users are revisited."
    },
    {
      "metadata": {
        "trusted": true,
        "_uuid": "45bdc6cb531835fcd5548584d23207f5e7abd89f"
      },
      "cell_type": "code",
      "source": "print(\"Number of unique visitors in train set : \",train.fullVisitorId.nunique(), \" the ratio is : \",round(100*train.fullVisitorId.nunique()/train.shape[0],2),\"%\")",
      "execution_count": 54,
      "outputs": [
        {
          "output_type": "stream",
          "text": "Number of unique visitors in train set :  18384  the ratio is :  91.92 %\n",
          "name": "stdout"
        }
      ]
    },
    {
      "metadata": {
        "_uuid": "84cf69bdaee1c399a7d77cd6ffbaec145243ff46"
      },
      "cell_type": "markdown",
      "source": "Let's explore data by device.\nFor example, groupping the train data by \"browser\" with size, count and mean, then the table is as below."
    },
    {
      "metadata": {
        "trusted": true,
        "_uuid": "0e6e0044b16e60a54bc93e0285707daf03dc0a9f"
      },
      "cell_type": "code",
      "source": "train.groupby('device.browser')['totals.transactionRevenue'].agg(['size', 'count', 'mean'])",
      "execution_count": 79,
      "outputs": [
        {
          "output_type": "execute_result",
          "execution_count": 79,
          "data": {
            "text/plain": "                           size  count          mean\ndevice.browser                                      \nADM                           1      0           NaN\nAmazon Silk                  20      0           NaN\nAndroid Browser              11      0           NaN\nAndroid Webview             300      0           NaN\nBlackBerry                    4      0           NaN\nChrome                    13978    171  1.167348e+08\nCoc Coc                      14      0           NaN\nEdge                        267      3  1.348333e+07\nFirefox                     829      2  1.349000e+07\nInternet Explorer           530      1  4.200000e+07\nMRCHROME                      5      0           NaN\nMaxthon                       2      0           NaN\nMozilla Compatible Agent      5      0           NaN\nNintendo Browser              2      0           NaN\nNokia Browser                 2      0           NaN\nOpera                       134      0           NaN\nOpera Mini                  191      0           NaN\nPlaystation Vita Browser      1      0           NaN\nPuffin                        3      0           NaN\nSafari                     3340     15  6.022200e+07\nSafari (in-app)             139      1  1.697000e+07\nSamsung Internet            137      0           NaN\nSeaMonkey                     1      0           NaN\nUC Browser                   48      0           NaN\nYaBrowser                    36      0           NaN",
            "text/html": "<div>\n<style scoped>\n    .dataframe tbody tr th:only-of-type {\n        vertical-align: middle;\n    }\n\n    .dataframe tbody tr th {\n        vertical-align: top;\n    }\n\n    .dataframe thead th {\n        text-align: right;\n    }\n</style>\n<table border=\"1\" class=\"dataframe\">\n  <thead>\n    <tr style=\"text-align: right;\">\n      <th></th>\n      <th>size</th>\n      <th>count</th>\n      <th>mean</th>\n    </tr>\n    <tr>\n      <th>device.browser</th>\n      <th></th>\n      <th></th>\n      <th></th>\n    </tr>\n  </thead>\n  <tbody>\n    <tr>\n      <th>ADM</th>\n      <td>1</td>\n      <td>0</td>\n      <td>NaN</td>\n    </tr>\n    <tr>\n      <th>Amazon Silk</th>\n      <td>20</td>\n      <td>0</td>\n      <td>NaN</td>\n    </tr>\n    <tr>\n      <th>Android Browser</th>\n      <td>11</td>\n      <td>0</td>\n      <td>NaN</td>\n    </tr>\n    <tr>\n      <th>Android Webview</th>\n      <td>300</td>\n      <td>0</td>\n      <td>NaN</td>\n    </tr>\n    <tr>\n      <th>BlackBerry</th>\n      <td>4</td>\n      <td>0</td>\n      <td>NaN</td>\n    </tr>\n    <tr>\n      <th>Chrome</th>\n      <td>13978</td>\n      <td>171</td>\n      <td>1.167348e+08</td>\n    </tr>\n    <tr>\n      <th>Coc Coc</th>\n      <td>14</td>\n      <td>0</td>\n      <td>NaN</td>\n    </tr>\n    <tr>\n      <th>Edge</th>\n      <td>267</td>\n      <td>3</td>\n      <td>1.348333e+07</td>\n    </tr>\n    <tr>\n      <th>Firefox</th>\n      <td>829</td>\n      <td>2</td>\n      <td>1.349000e+07</td>\n    </tr>\n    <tr>\n      <th>Internet Explorer</th>\n      <td>530</td>\n      <td>1</td>\n      <td>4.200000e+07</td>\n    </tr>\n    <tr>\n      <th>MRCHROME</th>\n      <td>5</td>\n      <td>0</td>\n      <td>NaN</td>\n    </tr>\n    <tr>\n      <th>Maxthon</th>\n      <td>2</td>\n      <td>0</td>\n      <td>NaN</td>\n    </tr>\n    <tr>\n      <th>Mozilla Compatible Agent</th>\n      <td>5</td>\n      <td>0</td>\n      <td>NaN</td>\n    </tr>\n    <tr>\n      <th>Nintendo Browser</th>\n      <td>2</td>\n      <td>0</td>\n      <td>NaN</td>\n    </tr>\n    <tr>\n      <th>Nokia Browser</th>\n      <td>2</td>\n      <td>0</td>\n      <td>NaN</td>\n    </tr>\n    <tr>\n      <th>Opera</th>\n      <td>134</td>\n      <td>0</td>\n      <td>NaN</td>\n    </tr>\n    <tr>\n      <th>Opera Mini</th>\n      <td>191</td>\n      <td>0</td>\n      <td>NaN</td>\n    </tr>\n    <tr>\n      <th>Playstation Vita Browser</th>\n      <td>1</td>\n      <td>0</td>\n      <td>NaN</td>\n    </tr>\n    <tr>\n      <th>Puffin</th>\n      <td>3</td>\n      <td>0</td>\n      <td>NaN</td>\n    </tr>\n    <tr>\n      <th>Safari</th>\n      <td>3340</td>\n      <td>15</td>\n      <td>6.022200e+07</td>\n    </tr>\n    <tr>\n      <th>Safari (in-app)</th>\n      <td>139</td>\n      <td>1</td>\n      <td>1.697000e+07</td>\n    </tr>\n    <tr>\n      <th>Samsung Internet</th>\n      <td>137</td>\n      <td>0</td>\n      <td>NaN</td>\n    </tr>\n    <tr>\n      <th>SeaMonkey</th>\n      <td>1</td>\n      <td>0</td>\n      <td>NaN</td>\n    </tr>\n    <tr>\n      <th>UC Browser</th>\n      <td>48</td>\n      <td>0</td>\n      <td>NaN</td>\n    </tr>\n    <tr>\n      <th>YaBrowser</th>\n      <td>36</td>\n      <td>0</td>\n      <td>NaN</td>\n    </tr>\n  </tbody>\n</table>\n</div>"
          },
          "metadata": {}
        }
      ]
    },
    {
      "metadata": {
        "_uuid": "74eee7244c708a107a70d5d8cb2dbd9a8e4e1dbe"
      },
      "cell_type": "markdown",
      "source": "Using same logic to browser, device and OS, draw graphs as below."
    },
    {
      "metadata": {
        "trusted": true,
        "_uuid": "b84a542fb3389b850f57b6fdf42c3753e8bd41ad"
      },
      "cell_type": "code",
      "source": "from plotly import tools\nimport plotly.offline as py\npy.init_notebook_mode(connected=True)\nimport plotly.graph_objs as go\n\ndef horizontal_bar_chart(cnt_srs, color):\n    trace = go.Bar(\n        y=cnt_srs.index[::-1],\n        x=cnt_srs.values[::-1],\n        showlegend=False,\n        orientation = 'h',\n        marker=dict(\n            color=color,\n        ),\n    )\n    return trace\n\n# Device Browser\ncnt_srs = train.groupby('device.browser')['totals.transactionRevenue'].agg(['size', 'count', 'mean'])\ncnt_srs.columns = [\"count\", \"count of non-zero revenue\", \"mean\"]\ncnt_srs = cnt_srs.sort_values(by=\"count\", ascending=False)\ntrace1 = horizontal_bar_chart(cnt_srs[\"count\"].head(10), 'rgba(50, 171, 96, 0.6)')\ntrace2 = horizontal_bar_chart(cnt_srs[\"count of non-zero revenue\"].head(10), 'rgba(50, 171, 96, 0.6)')\ntrace3 = horizontal_bar_chart(cnt_srs[\"mean\"].head(10), 'rgba(50, 171, 96, 0.6)')\n\n# Device Category\ncnt_srs = train.groupby('device.deviceCategory')['totals.transactionRevenue'].agg(['size', 'count', 'mean'])\ncnt_srs.columns = [\"count\", \"count of non-zero revenue\", \"mean\"]\ncnt_srs = cnt_srs.sort_values(by=\"count\", ascending=False)\ntrace4 = horizontal_bar_chart(cnt_srs[\"count\"].head(10), 'rgba(71, 58, 131, 0.8)')\ntrace5 = horizontal_bar_chart(cnt_srs[\"count of non-zero revenue\"].head(10), 'rgba(71, 58, 131, 0.8)')\ntrace6 = horizontal_bar_chart(cnt_srs[\"mean\"].head(10), 'rgba(71, 58, 131, 0.8)')\n\n# Operating system\ncnt_srs = train.groupby('device.operatingSystem')['totals.transactionRevenue'].agg(['size', 'count', 'mean'])\ncnt_srs.columns = [\"count\", \"count of non-zero revenue\", \"mean\"]\ncnt_srs = cnt_srs.sort_values(by=\"count\", ascending=False)\ntrace7 = horizontal_bar_chart(cnt_srs[\"count\"].head(10), 'rgba(246, 78, 139, 0.6)')\ntrace8 = horizontal_bar_chart(cnt_srs[\"count of non-zero revenue\"].head(10),'rgba(246, 78, 139, 0.6)')\ntrace9 = horizontal_bar_chart(cnt_srs[\"mean\"].head(10),'rgba(246, 78, 139, 0.6)')\n\n# Creating two subplots\nfig = tools.make_subplots(rows=3, cols=3, vertical_spacing=0.04, \n                          subplot_titles=[\"Device Browser - Count\", \"Device Browser - Non-zero Revenue Count\", \"Device Browser - Mean Revenue\",\n                                          \"Device Category - Count\",  \"Device Category - Non-zero Revenue Count\", \"Device Category - Mean Revenue\", \n                                          \"Device OS - Count\", \"Device OS - Non-zero Revenue Count\", \"Device OS - Mean Revenue\"])\n\nfig.append_trace(trace1, 1, 1)\nfig.append_trace(trace2, 1, 2)\nfig.append_trace(trace3, 1, 3)\nfig.append_trace(trace4, 2, 1)\nfig.append_trace(trace5, 2, 2)\nfig.append_trace(trace6, 2, 3)\nfig.append_trace(trace7, 3, 1)\nfig.append_trace(trace8, 3, 2)\nfig.append_trace(trace9, 3, 3)\n\nfig['layout'].update(height=1200, width=1200, paper_bgcolor='rgb(233,233,233)', title=\"Device Plots\")\npy.iplot(fig, filename='device-plots')",
      "execution_count": 69,
      "outputs": [
        {
          "output_type": "display_data",
          "data": {
            "text/html": "<script type=\"text/javascript\">window.PlotlyConfig = {MathJaxConfig: 'local'};</script><script type=\"text/javascript\">if (window.MathJax) {MathJax.Hub.Config({SVG: {font: \"STIX-Web\"}});}</script><script>requirejs.config({paths: { 'plotly': ['https://cdn.plot.ly/plotly-latest.min']},});if(!window._Plotly) {require(['plotly'],function(plotly) {window._Plotly=plotly;});}</script>",
            "text/vnd.plotly.v1+html": "<script type=\"text/javascript\">window.PlotlyConfig = {MathJaxConfig: 'local'};</script><script type=\"text/javascript\">if (window.MathJax) {MathJax.Hub.Config({SVG: {font: \"STIX-Web\"}});}</script><script>requirejs.config({paths: { 'plotly': ['https://cdn.plot.ly/plotly-latest.min']},});if(!window._Plotly) {require(['plotly'],function(plotly) {window._Plotly=plotly;});}</script>"
          },
          "metadata": {}
        },
        {
          "output_type": "stream",
          "text": "This is the format of your plot grid:\n[ (1,1) x1,y1 ]  [ (1,2) x2,y2 ]  [ (1,3) x3,y3 ]\n[ (2,1) x4,y4 ]  [ (2,2) x5,y5 ]  [ (2,3) x6,y6 ]\n[ (3,1) x7,y7 ]  [ (3,2) x8,y8 ]  [ (3,3) x9,y9 ]\n\n",
          "name": "stdout"
        },
        {
          "output_type": "display_data",
          "data": {
            "application/vnd.plotly.v1+json": {
              "data": [
                {
                  "marker": {
                    "color": "rgba(50, 171, 96, 0.6)"
                  },
                  "orientation": "h",
                  "showlegend": false,
                  "x": [
                    134,
                    137,
                    139,
                    191,
                    267,
                    300,
                    530,
                    829,
                    3340,
                    13978
                  ],
                  "y": [
                    "Opera",
                    "Samsung Internet",
                    "Safari (in-app)",
                    "Opera Mini",
                    "Edge",
                    "Android Webview",
                    "Internet Explorer",
                    "Firefox",
                    "Safari",
                    "Chrome"
                  ],
                  "type": "bar",
                  "uid": "a28ce37a-4390-4689-87fc-d38221430847",
                  "xaxis": "x",
                  "yaxis": "y"
                },
                {
                  "marker": {
                    "color": "rgba(50, 171, 96, 0.6)"
                  },
                  "orientation": "h",
                  "showlegend": false,
                  "x": [
                    0,
                    0,
                    1,
                    0,
                    3,
                    0,
                    1,
                    2,
                    15,
                    171
                  ],
                  "y": [
                    "Opera",
                    "Samsung Internet",
                    "Safari (in-app)",
                    "Opera Mini",
                    "Edge",
                    "Android Webview",
                    "Internet Explorer",
                    "Firefox",
                    "Safari",
                    "Chrome"
                  ],
                  "type": "bar",
                  "uid": "73cef9aa-613e-4e94-91ed-df9d8d243446",
                  "xaxis": "x2",
                  "yaxis": "y2"
                },
                {
                  "marker": {
                    "color": "rgba(50, 171, 96, 0.6)"
                  },
                  "orientation": "h",
                  "showlegend": false,
                  "x": [
                    null,
                    null,
                    16970000,
                    null,
                    13483333.333333334,
                    null,
                    42000000,
                    13490000,
                    60222000,
                    116734795.32163742
                  ],
                  "y": [
                    "Opera",
                    "Samsung Internet",
                    "Safari (in-app)",
                    "Opera Mini",
                    "Edge",
                    "Android Webview",
                    "Internet Explorer",
                    "Firefox",
                    "Safari",
                    "Chrome"
                  ],
                  "type": "bar",
                  "uid": "c086c5ce-574b-4c1f-99c7-889b532aa618",
                  "xaxis": "x3",
                  "yaxis": "y3"
                },
                {
                  "marker": {
                    "color": "rgba(71, 58, 131, 0.8)"
                  },
                  "orientation": "h",
                  "showlegend": false,
                  "x": [
                    728,
                    5284,
                    13988
                  ],
                  "y": [
                    "tablet",
                    "mobile",
                    "desktop"
                  ],
                  "type": "bar",
                  "uid": "cb8bd7c8-488a-4376-ac8e-d03d4253f0b2",
                  "xaxis": "x4",
                  "yaxis": "y4"
                },
                {
                  "marker": {
                    "color": "rgba(71, 58, 131, 0.8)"
                  },
                  "orientation": "h",
                  "showlegend": false,
                  "x": [
                    2,
                    17,
                    174
                  ],
                  "y": [
                    "tablet",
                    "mobile",
                    "desktop"
                  ],
                  "type": "bar",
                  "uid": "c6df5949-6c37-456a-b199-b1d0bb52ca0c",
                  "xaxis": "x5",
                  "yaxis": "y5"
                },
                {
                  "marker": {
                    "color": "rgba(71, 58, 131, 0.8)"
                  },
                  "orientation": "h",
                  "showlegend": false,
                  "x": [
                    63715000,
                    49828823.52941176,
                    115039425.28735632
                  ],
                  "y": [
                    "tablet",
                    "mobile",
                    "desktop"
                  ],
                  "type": "bar",
                  "uid": "c1021d62-e672-4881-8666-b2abbfffaf6d",
                  "xaxis": "x6",
                  "yaxis": "y6"
                },
                {
                  "marker": {
                    "color": "rgba(246, 78, 139, 0.6)"
                  },
                  "orientation": "h",
                  "showlegend": false,
                  "x": [
                    9,
                    12,
                    31,
                    131,
                    620,
                    812,
                    2583,
                    3205,
                    4928,
                    7651
                  ],
                  "y": [
                    "Samsung",
                    "Tizen",
                    "Windows Phone",
                    "(not set)",
                    "Chrome OS",
                    "Linux",
                    "iOS",
                    "Android",
                    "Macintosh",
                    "Windows"
                  ],
                  "type": "bar",
                  "uid": "dde1876b-cfef-4d2f-bcfc-e2751bddcdbf",
                  "xaxis": "x7",
                  "yaxis": "y7"
                },
                {
                  "marker": {
                    "color": "rgba(246, 78, 139, 0.6)"
                  },
                  "orientation": "h",
                  "showlegend": false,
                  "x": [
                    0,
                    0,
                    0,
                    0,
                    18,
                    12,
                    12,
                    6,
                    111,
                    34
                  ],
                  "y": [
                    "Samsung",
                    "Tizen",
                    "Windows Phone",
                    "(not set)",
                    "Chrome OS",
                    "Linux",
                    "iOS",
                    "Android",
                    "Macintosh",
                    "Windows"
                  ],
                  "type": "bar",
                  "uid": "f326518e-5126-4caf-a434-40ed672129d3",
                  "xaxis": "x8",
                  "yaxis": "y8"
                },
                {
                  "marker": {
                    "color": "rgba(246, 78, 139, 0.6)"
                  },
                  "orientation": "h",
                  "showlegend": false,
                  "x": [
                    null,
                    null,
                    null,
                    null,
                    164332222.2222222,
                    42800000,
                    37927500,
                    79565000,
                    116755585.58558558,
                    106688529.41176471
                  ],
                  "y": [
                    "Samsung",
                    "Tizen",
                    "Windows Phone",
                    "(not set)",
                    "Chrome OS",
                    "Linux",
                    "iOS",
                    "Android",
                    "Macintosh",
                    "Windows"
                  ],
                  "type": "bar",
                  "uid": "c00c36b1-0a8a-40e0-9edb-efba6c8e6936",
                  "xaxis": "x9",
                  "yaxis": "y9"
                }
              ],
              "layout": {
                "annotations": [
                  {
                    "font": {
                      "size": 16
                    },
                    "showarrow": false,
                    "text": "Device Browser - Count",
                    "x": 0.14444444444444446,
                    "xanchor": "center",
                    "xref": "paper",
                    "y": 1,
                    "yanchor": "bottom",
                    "yref": "paper"
                  },
                  {
                    "font": {
                      "size": 16
                    },
                    "showarrow": false,
                    "text": "Device Browser - Non-zero Revenue Count",
                    "x": 0.5,
                    "xanchor": "center",
                    "xref": "paper",
                    "y": 1,
                    "yanchor": "bottom",
                    "yref": "paper"
                  },
                  {
                    "font": {
                      "size": 16
                    },
                    "showarrow": false,
                    "text": "Device Browser - Mean Revenue",
                    "x": 0.8555555555555556,
                    "xanchor": "center",
                    "xref": "paper",
                    "y": 1,
                    "yanchor": "bottom",
                    "yref": "paper"
                  },
                  {
                    "font": {
                      "size": 16
                    },
                    "showarrow": false,
                    "text": "Device Category - Count",
                    "x": 0.14444444444444446,
                    "xanchor": "center",
                    "xref": "paper",
                    "y": 0.6533333333333333,
                    "yanchor": "bottom",
                    "yref": "paper"
                  },
                  {
                    "font": {
                      "size": 16
                    },
                    "showarrow": false,
                    "text": "Device Category - Non-zero Revenue Count",
                    "x": 0.5,
                    "xanchor": "center",
                    "xref": "paper",
                    "y": 0.6533333333333333,
                    "yanchor": "bottom",
                    "yref": "paper"
                  },
                  {
                    "font": {
                      "size": 16
                    },
                    "showarrow": false,
                    "text": "Device Category - Mean Revenue",
                    "x": 0.8555555555555556,
                    "xanchor": "center",
                    "xref": "paper",
                    "y": 0.6533333333333333,
                    "yanchor": "bottom",
                    "yref": "paper"
                  },
                  {
                    "font": {
                      "size": 16
                    },
                    "showarrow": false,
                    "text": "Device OS - Count",
                    "x": 0.14444444444444446,
                    "xanchor": "center",
                    "xref": "paper",
                    "y": 0.3066666666666667,
                    "yanchor": "bottom",
                    "yref": "paper"
                  },
                  {
                    "font": {
                      "size": 16
                    },
                    "showarrow": false,
                    "text": "Device OS - Non-zero Revenue Count",
                    "x": 0.5,
                    "xanchor": "center",
                    "xref": "paper",
                    "y": 0.3066666666666667,
                    "yanchor": "bottom",
                    "yref": "paper"
                  },
                  {
                    "font": {
                      "size": 16
                    },
                    "showarrow": false,
                    "text": "Device OS - Mean Revenue",
                    "x": 0.8555555555555556,
                    "xanchor": "center",
                    "xref": "paper",
                    "y": 0.3066666666666667,
                    "yanchor": "bottom",
                    "yref": "paper"
                  }
                ],
                "xaxis": {
                  "anchor": "y",
                  "domain": [
                    0,
                    0.2888888888888889
                  ]
                },
                "yaxis": {
                  "anchor": "x",
                  "domain": [
                    0.6933333333333334,
                    1
                  ]
                },
                "xaxis2": {
                  "anchor": "y2",
                  "domain": [
                    0.35555555555555557,
                    0.6444444444444445
                  ]
                },
                "yaxis2": {
                  "anchor": "x2",
                  "domain": [
                    0.6933333333333334,
                    1
                  ]
                },
                "xaxis3": {
                  "anchor": "y3",
                  "domain": [
                    0.7111111111111111,
                    1
                  ]
                },
                "yaxis3": {
                  "anchor": "x3",
                  "domain": [
                    0.6933333333333334,
                    1
                  ]
                },
                "xaxis4": {
                  "anchor": "y4",
                  "domain": [
                    0,
                    0.2888888888888889
                  ]
                },
                "yaxis4": {
                  "anchor": "x4",
                  "domain": [
                    0.3466666666666667,
                    0.6533333333333333
                  ]
                },
                "xaxis5": {
                  "anchor": "y5",
                  "domain": [
                    0.35555555555555557,
                    0.6444444444444445
                  ]
                },
                "yaxis5": {
                  "anchor": "x5",
                  "domain": [
                    0.3466666666666667,
                    0.6533333333333333
                  ]
                },
                "xaxis6": {
                  "anchor": "y6",
                  "domain": [
                    0.7111111111111111,
                    1
                  ]
                },
                "yaxis6": {
                  "anchor": "x6",
                  "domain": [
                    0.3466666666666667,
                    0.6533333333333333
                  ]
                },
                "xaxis7": {
                  "anchor": "y7",
                  "domain": [
                    0,
                    0.2888888888888889
                  ]
                },
                "yaxis7": {
                  "anchor": "x7",
                  "domain": [
                    0,
                    0.3066666666666667
                  ]
                },
                "xaxis8": {
                  "anchor": "y8",
                  "domain": [
                    0.35555555555555557,
                    0.6444444444444445
                  ]
                },
                "yaxis8": {
                  "anchor": "x8",
                  "domain": [
                    0,
                    0.3066666666666667
                  ]
                },
                "xaxis9": {
                  "anchor": "y9",
                  "domain": [
                    0.7111111111111111,
                    1
                  ]
                },
                "yaxis9": {
                  "anchor": "x9",
                  "domain": [
                    0,
                    0.3066666666666667
                  ]
                },
                "height": 1200,
                "width": 1200,
                "paper_bgcolor": "rgb(233,233,233)",
                "title": "Device Plots"
              }
            },
            "text/html": "<div id=\"f80a5fc4-bab6-4000-b8b5-bb87407ce2be\" style=\"height: 1200px; width: 1200px;\" class=\"plotly-graph-div\"></div><script type=\"text/javascript\">require([\"plotly\"], function(Plotly) { window.PLOTLYENV=window.PLOTLYENV || {};window.PLOTLYENV.BASE_URL=\"https://plot.ly\";Plotly.newPlot(\"f80a5fc4-bab6-4000-b8b5-bb87407ce2be\", [{\"marker\": {\"color\": \"rgba(50, 171, 96, 0.6)\"}, \"orientation\": \"h\", \"showlegend\": false, \"x\": [134, 137, 139, 191, 267, 300, 530, 829, 3340, 13978], \"y\": [\"Opera\", \"Samsung Internet\", \"Safari (in-app)\", \"Opera Mini\", \"Edge\", \"Android Webview\", \"Internet Explorer\", \"Firefox\", \"Safari\", \"Chrome\"], \"type\": \"bar\", \"uid\": \"a28ce37a-4390-4689-87fc-d38221430847\", \"xaxis\": \"x\", \"yaxis\": \"y\"}, {\"marker\": {\"color\": \"rgba(50, 171, 96, 0.6)\"}, \"orientation\": \"h\", \"showlegend\": false, \"x\": [0, 0, 1, 0, 3, 0, 1, 2, 15, 171], \"y\": [\"Opera\", \"Samsung Internet\", \"Safari (in-app)\", \"Opera Mini\", \"Edge\", \"Android Webview\", \"Internet Explorer\", \"Firefox\", \"Safari\", \"Chrome\"], \"type\": \"bar\", \"uid\": \"73cef9aa-613e-4e94-91ed-df9d8d243446\", \"xaxis\": \"x2\", \"yaxis\": \"y2\"}, {\"marker\": {\"color\": \"rgba(50, 171, 96, 0.6)\"}, \"orientation\": \"h\", \"showlegend\": false, \"x\": [null, null, 16970000.0, null, 13483333.333333334, null, 42000000.0, 13490000.0, 60222000.0, 116734795.32163742], \"y\": [\"Opera\", \"Samsung Internet\", \"Safari (in-app)\", \"Opera Mini\", \"Edge\", \"Android Webview\", \"Internet Explorer\", \"Firefox\", \"Safari\", \"Chrome\"], \"type\": \"bar\", \"uid\": \"c086c5ce-574b-4c1f-99c7-889b532aa618\", \"xaxis\": \"x3\", \"yaxis\": \"y3\"}, {\"marker\": {\"color\": \"rgba(71, 58, 131, 0.8)\"}, \"orientation\": \"h\", \"showlegend\": false, \"x\": [728, 5284, 13988], \"y\": [\"tablet\", \"mobile\", \"desktop\"], \"type\": \"bar\", \"uid\": \"cb8bd7c8-488a-4376-ac8e-d03d4253f0b2\", \"xaxis\": \"x4\", \"yaxis\": \"y4\"}, {\"marker\": {\"color\": \"rgba(71, 58, 131, 0.8)\"}, \"orientation\": \"h\", \"showlegend\": false, \"x\": [2, 17, 174], \"y\": [\"tablet\", \"mobile\", \"desktop\"], \"type\": \"bar\", \"uid\": \"c6df5949-6c37-456a-b199-b1d0bb52ca0c\", \"xaxis\": \"x5\", \"yaxis\": \"y5\"}, {\"marker\": {\"color\": \"rgba(71, 58, 131, 0.8)\"}, \"orientation\": \"h\", \"showlegend\": false, \"x\": [63715000.0, 49828823.52941176, 115039425.28735632], \"y\": [\"tablet\", \"mobile\", \"desktop\"], \"type\": \"bar\", \"uid\": \"c1021d62-e672-4881-8666-b2abbfffaf6d\", \"xaxis\": \"x6\", \"yaxis\": \"y6\"}, {\"marker\": {\"color\": \"rgba(246, 78, 139, 0.6)\"}, \"orientation\": \"h\", \"showlegend\": false, \"x\": [9, 12, 31, 131, 620, 812, 2583, 3205, 4928, 7651], \"y\": [\"Samsung\", \"Tizen\", \"Windows Phone\", \"(not set)\", \"Chrome OS\", \"Linux\", \"iOS\", \"Android\", \"Macintosh\", \"Windows\"], \"type\": \"bar\", \"uid\": \"dde1876b-cfef-4d2f-bcfc-e2751bddcdbf\", \"xaxis\": \"x7\", \"yaxis\": \"y7\"}, {\"marker\": {\"color\": \"rgba(246, 78, 139, 0.6)\"}, \"orientation\": \"h\", \"showlegend\": false, \"x\": [0, 0, 0, 0, 18, 12, 12, 6, 111, 34], \"y\": [\"Samsung\", \"Tizen\", \"Windows Phone\", \"(not set)\", \"Chrome OS\", \"Linux\", \"iOS\", \"Android\", \"Macintosh\", \"Windows\"], \"type\": \"bar\", \"uid\": \"f326518e-5126-4caf-a434-40ed672129d3\", \"xaxis\": \"x8\", \"yaxis\": \"y8\"}, {\"marker\": {\"color\": \"rgba(246, 78, 139, 0.6)\"}, \"orientation\": \"h\", \"showlegend\": false, \"x\": [null, null, null, null, 164332222.2222222, 42800000.0, 37927500.0, 79565000.0, 116755585.58558558, 106688529.41176471], \"y\": [\"Samsung\", \"Tizen\", \"Windows Phone\", \"(not set)\", \"Chrome OS\", \"Linux\", \"iOS\", \"Android\", \"Macintosh\", \"Windows\"], \"type\": \"bar\", \"uid\": \"c00c36b1-0a8a-40e0-9edb-efba6c8e6936\", \"xaxis\": \"x9\", \"yaxis\": \"y9\"}], {\"annotations\": [{\"font\": {\"size\": 16}, \"showarrow\": false, \"text\": \"Device Browser - Count\", \"x\": 0.14444444444444446, \"xanchor\": \"center\", \"xref\": \"paper\", \"y\": 1.0, \"yanchor\": \"bottom\", \"yref\": \"paper\"}, {\"font\": {\"size\": 16}, \"showarrow\": false, \"text\": \"Device Browser - Non-zero Revenue Count\", \"x\": 0.5, \"xanchor\": \"center\", \"xref\": \"paper\", \"y\": 1.0, \"yanchor\": \"bottom\", \"yref\": \"paper\"}, {\"font\": {\"size\": 16}, \"showarrow\": false, \"text\": \"Device Browser - Mean Revenue\", \"x\": 0.8555555555555556, \"xanchor\": \"center\", \"xref\": \"paper\", \"y\": 1.0, \"yanchor\": \"bottom\", \"yref\": \"paper\"}, {\"font\": {\"size\": 16}, \"showarrow\": false, \"text\": \"Device Category - Count\", \"x\": 0.14444444444444446, \"xanchor\": \"center\", \"xref\": \"paper\", \"y\": 0.6533333333333333, \"yanchor\": \"bottom\", \"yref\": \"paper\"}, {\"font\": {\"size\": 16}, \"showarrow\": false, \"text\": \"Device Category - Non-zero Revenue Count\", \"x\": 0.5, \"xanchor\": \"center\", \"xref\": \"paper\", \"y\": 0.6533333333333333, \"yanchor\": \"bottom\", \"yref\": \"paper\"}, {\"font\": {\"size\": 16}, \"showarrow\": false, \"text\": \"Device Category - Mean Revenue\", \"x\": 0.8555555555555556, \"xanchor\": \"center\", \"xref\": \"paper\", \"y\": 0.6533333333333333, \"yanchor\": \"bottom\", \"yref\": \"paper\"}, {\"font\": {\"size\": 16}, \"showarrow\": false, \"text\": \"Device OS - Count\", \"x\": 0.14444444444444446, \"xanchor\": \"center\", \"xref\": \"paper\", \"y\": 0.3066666666666667, \"yanchor\": \"bottom\", \"yref\": \"paper\"}, {\"font\": {\"size\": 16}, \"showarrow\": false, \"text\": \"Device OS - Non-zero Revenue Count\", \"x\": 0.5, \"xanchor\": \"center\", \"xref\": \"paper\", \"y\": 0.3066666666666667, \"yanchor\": \"bottom\", \"yref\": \"paper\"}, {\"font\": {\"size\": 16}, \"showarrow\": false, \"text\": \"Device OS - Mean Revenue\", \"x\": 0.8555555555555556, \"xanchor\": \"center\", \"xref\": \"paper\", \"y\": 0.3066666666666667, \"yanchor\": \"bottom\", \"yref\": \"paper\"}], \"xaxis\": {\"anchor\": \"y\", \"domain\": [0.0, 0.2888888888888889]}, \"yaxis\": {\"anchor\": \"x\", \"domain\": [0.6933333333333334, 1.0]}, \"xaxis2\": {\"anchor\": \"y2\", \"domain\": [0.35555555555555557, 0.6444444444444445]}, \"yaxis2\": {\"anchor\": \"x2\", \"domain\": [0.6933333333333334, 1.0]}, \"xaxis3\": {\"anchor\": \"y3\", \"domain\": [0.7111111111111111, 1.0]}, \"yaxis3\": {\"anchor\": \"x3\", \"domain\": [0.6933333333333334, 1.0]}, \"xaxis4\": {\"anchor\": \"y4\", \"domain\": [0.0, 0.2888888888888889]}, \"yaxis4\": {\"anchor\": \"x4\", \"domain\": [0.3466666666666667, 0.6533333333333333]}, \"xaxis5\": {\"anchor\": \"y5\", \"domain\": [0.35555555555555557, 0.6444444444444445]}, \"yaxis5\": {\"anchor\": \"x5\", \"domain\": [0.3466666666666667, 0.6533333333333333]}, \"xaxis6\": {\"anchor\": \"y6\", \"domain\": [0.7111111111111111, 1.0]}, \"yaxis6\": {\"anchor\": \"x6\", \"domain\": [0.3466666666666667, 0.6533333333333333]}, \"xaxis7\": {\"anchor\": \"y7\", \"domain\": [0.0, 0.2888888888888889]}, \"yaxis7\": {\"anchor\": \"x7\", \"domain\": [0.0, 0.3066666666666667]}, \"xaxis8\": {\"anchor\": \"y8\", \"domain\": [0.35555555555555557, 0.6444444444444445]}, \"yaxis8\": {\"anchor\": \"x8\", \"domain\": [0.0, 0.3066666666666667]}, \"xaxis9\": {\"anchor\": \"y9\", \"domain\": [0.7111111111111111, 1.0]}, \"yaxis9\": {\"anchor\": \"x9\", \"domain\": [0.0, 0.3066666666666667]}, \"height\": 1200, \"width\": 1200, \"paper_bgcolor\": \"rgb(233,233,233)\", \"title\": \"Device Plots\"}, {\"showLink\": true, \"linkText\": \"Export to plot.ly\"})});</script>",
            "text/vnd.plotly.v1+html": "<div id=\"f80a5fc4-bab6-4000-b8b5-bb87407ce2be\" style=\"height: 1200px; width: 1200px;\" class=\"plotly-graph-div\"></div><script type=\"text/javascript\">require([\"plotly\"], function(Plotly) { window.PLOTLYENV=window.PLOTLYENV || {};window.PLOTLYENV.BASE_URL=\"https://plot.ly\";Plotly.newPlot(\"f80a5fc4-bab6-4000-b8b5-bb87407ce2be\", [{\"marker\": {\"color\": \"rgba(50, 171, 96, 0.6)\"}, \"orientation\": \"h\", \"showlegend\": false, \"x\": [134, 137, 139, 191, 267, 300, 530, 829, 3340, 13978], \"y\": [\"Opera\", \"Samsung Internet\", \"Safari (in-app)\", \"Opera Mini\", \"Edge\", \"Android Webview\", \"Internet Explorer\", \"Firefox\", \"Safari\", \"Chrome\"], \"type\": \"bar\", \"uid\": \"a28ce37a-4390-4689-87fc-d38221430847\", \"xaxis\": \"x\", \"yaxis\": \"y\"}, {\"marker\": {\"color\": \"rgba(50, 171, 96, 0.6)\"}, \"orientation\": \"h\", \"showlegend\": false, \"x\": [0, 0, 1, 0, 3, 0, 1, 2, 15, 171], \"y\": [\"Opera\", \"Samsung Internet\", \"Safari (in-app)\", \"Opera Mini\", \"Edge\", \"Android Webview\", \"Internet Explorer\", \"Firefox\", \"Safari\", \"Chrome\"], \"type\": \"bar\", \"uid\": \"73cef9aa-613e-4e94-91ed-df9d8d243446\", \"xaxis\": \"x2\", \"yaxis\": \"y2\"}, {\"marker\": {\"color\": \"rgba(50, 171, 96, 0.6)\"}, \"orientation\": \"h\", \"showlegend\": false, \"x\": [null, null, 16970000.0, null, 13483333.333333334, null, 42000000.0, 13490000.0, 60222000.0, 116734795.32163742], \"y\": [\"Opera\", \"Samsung Internet\", \"Safari (in-app)\", \"Opera Mini\", \"Edge\", \"Android Webview\", \"Internet Explorer\", \"Firefox\", \"Safari\", \"Chrome\"], \"type\": \"bar\", \"uid\": \"c086c5ce-574b-4c1f-99c7-889b532aa618\", \"xaxis\": \"x3\", \"yaxis\": \"y3\"}, {\"marker\": {\"color\": \"rgba(71, 58, 131, 0.8)\"}, \"orientation\": \"h\", \"showlegend\": false, \"x\": [728, 5284, 13988], \"y\": [\"tablet\", \"mobile\", \"desktop\"], \"type\": \"bar\", \"uid\": \"cb8bd7c8-488a-4376-ac8e-d03d4253f0b2\", \"xaxis\": \"x4\", \"yaxis\": \"y4\"}, {\"marker\": {\"color\": \"rgba(71, 58, 131, 0.8)\"}, \"orientation\": \"h\", \"showlegend\": false, \"x\": [2, 17, 174], \"y\": [\"tablet\", \"mobile\", \"desktop\"], \"type\": \"bar\", \"uid\": \"c6df5949-6c37-456a-b199-b1d0bb52ca0c\", \"xaxis\": \"x5\", \"yaxis\": \"y5\"}, {\"marker\": {\"color\": \"rgba(71, 58, 131, 0.8)\"}, \"orientation\": \"h\", \"showlegend\": false, \"x\": [63715000.0, 49828823.52941176, 115039425.28735632], \"y\": [\"tablet\", \"mobile\", \"desktop\"], \"type\": \"bar\", \"uid\": \"c1021d62-e672-4881-8666-b2abbfffaf6d\", \"xaxis\": \"x6\", \"yaxis\": \"y6\"}, {\"marker\": {\"color\": \"rgba(246, 78, 139, 0.6)\"}, \"orientation\": \"h\", \"showlegend\": false, \"x\": [9, 12, 31, 131, 620, 812, 2583, 3205, 4928, 7651], \"y\": [\"Samsung\", \"Tizen\", \"Windows Phone\", \"(not set)\", \"Chrome OS\", \"Linux\", \"iOS\", \"Android\", \"Macintosh\", \"Windows\"], \"type\": \"bar\", \"uid\": \"dde1876b-cfef-4d2f-bcfc-e2751bddcdbf\", \"xaxis\": \"x7\", \"yaxis\": \"y7\"}, {\"marker\": {\"color\": \"rgba(246, 78, 139, 0.6)\"}, \"orientation\": \"h\", \"showlegend\": false, \"x\": [0, 0, 0, 0, 18, 12, 12, 6, 111, 34], \"y\": [\"Samsung\", \"Tizen\", \"Windows Phone\", \"(not set)\", \"Chrome OS\", \"Linux\", \"iOS\", \"Android\", \"Macintosh\", \"Windows\"], \"type\": \"bar\", \"uid\": \"f326518e-5126-4caf-a434-40ed672129d3\", \"xaxis\": \"x8\", \"yaxis\": \"y8\"}, {\"marker\": {\"color\": \"rgba(246, 78, 139, 0.6)\"}, \"orientation\": \"h\", \"showlegend\": false, \"x\": [null, null, null, null, 164332222.2222222, 42800000.0, 37927500.0, 79565000.0, 116755585.58558558, 106688529.41176471], \"y\": [\"Samsung\", \"Tizen\", \"Windows Phone\", \"(not set)\", \"Chrome OS\", \"Linux\", \"iOS\", \"Android\", \"Macintosh\", \"Windows\"], \"type\": \"bar\", \"uid\": \"c00c36b1-0a8a-40e0-9edb-efba6c8e6936\", \"xaxis\": \"x9\", \"yaxis\": \"y9\"}], {\"annotations\": [{\"font\": {\"size\": 16}, \"showarrow\": false, \"text\": \"Device Browser - Count\", \"x\": 0.14444444444444446, \"xanchor\": \"center\", \"xref\": \"paper\", \"y\": 1.0, \"yanchor\": \"bottom\", \"yref\": \"paper\"}, {\"font\": {\"size\": 16}, \"showarrow\": false, \"text\": \"Device Browser - Non-zero Revenue Count\", \"x\": 0.5, \"xanchor\": \"center\", \"xref\": \"paper\", \"y\": 1.0, \"yanchor\": \"bottom\", \"yref\": \"paper\"}, {\"font\": {\"size\": 16}, \"showarrow\": false, \"text\": \"Device Browser - Mean Revenue\", \"x\": 0.8555555555555556, \"xanchor\": \"center\", \"xref\": \"paper\", \"y\": 1.0, \"yanchor\": \"bottom\", \"yref\": \"paper\"}, {\"font\": {\"size\": 16}, \"showarrow\": false, \"text\": \"Device Category - Count\", \"x\": 0.14444444444444446, \"xanchor\": \"center\", \"xref\": \"paper\", \"y\": 0.6533333333333333, \"yanchor\": \"bottom\", \"yref\": \"paper\"}, {\"font\": {\"size\": 16}, \"showarrow\": false, \"text\": \"Device Category - Non-zero Revenue Count\", \"x\": 0.5, \"xanchor\": \"center\", \"xref\": \"paper\", \"y\": 0.6533333333333333, \"yanchor\": \"bottom\", \"yref\": \"paper\"}, {\"font\": {\"size\": 16}, \"showarrow\": false, \"text\": \"Device Category - Mean Revenue\", \"x\": 0.8555555555555556, \"xanchor\": \"center\", \"xref\": \"paper\", \"y\": 0.6533333333333333, \"yanchor\": \"bottom\", \"yref\": \"paper\"}, {\"font\": {\"size\": 16}, \"showarrow\": false, \"text\": \"Device OS - Count\", \"x\": 0.14444444444444446, \"xanchor\": \"center\", \"xref\": \"paper\", \"y\": 0.3066666666666667, \"yanchor\": \"bottom\", \"yref\": \"paper\"}, {\"font\": {\"size\": 16}, \"showarrow\": false, \"text\": \"Device OS - Non-zero Revenue Count\", \"x\": 0.5, \"xanchor\": \"center\", \"xref\": \"paper\", \"y\": 0.3066666666666667, \"yanchor\": \"bottom\", \"yref\": \"paper\"}, {\"font\": {\"size\": 16}, \"showarrow\": false, \"text\": \"Device OS - Mean Revenue\", \"x\": 0.8555555555555556, \"xanchor\": \"center\", \"xref\": \"paper\", \"y\": 0.3066666666666667, \"yanchor\": \"bottom\", \"yref\": \"paper\"}], \"xaxis\": {\"anchor\": \"y\", \"domain\": [0.0, 0.2888888888888889]}, \"yaxis\": {\"anchor\": \"x\", \"domain\": [0.6933333333333334, 1.0]}, \"xaxis2\": {\"anchor\": \"y2\", \"domain\": [0.35555555555555557, 0.6444444444444445]}, \"yaxis2\": {\"anchor\": \"x2\", \"domain\": [0.6933333333333334, 1.0]}, \"xaxis3\": {\"anchor\": \"y3\", \"domain\": [0.7111111111111111, 1.0]}, \"yaxis3\": {\"anchor\": \"x3\", \"domain\": [0.6933333333333334, 1.0]}, \"xaxis4\": {\"anchor\": \"y4\", \"domain\": [0.0, 0.2888888888888889]}, \"yaxis4\": {\"anchor\": \"x4\", \"domain\": [0.3466666666666667, 0.6533333333333333]}, \"xaxis5\": {\"anchor\": \"y5\", \"domain\": [0.35555555555555557, 0.6444444444444445]}, \"yaxis5\": {\"anchor\": \"x5\", \"domain\": [0.3466666666666667, 0.6533333333333333]}, \"xaxis6\": {\"anchor\": \"y6\", \"domain\": [0.7111111111111111, 1.0]}, \"yaxis6\": {\"anchor\": \"x6\", \"domain\": [0.3466666666666667, 0.6533333333333333]}, \"xaxis7\": {\"anchor\": \"y7\", \"domain\": [0.0, 0.2888888888888889]}, \"yaxis7\": {\"anchor\": \"x7\", \"domain\": [0.0, 0.3066666666666667]}, \"xaxis8\": {\"anchor\": \"y8\", \"domain\": [0.35555555555555557, 0.6444444444444445]}, \"yaxis8\": {\"anchor\": \"x8\", \"domain\": [0.0, 0.3066666666666667]}, \"xaxis9\": {\"anchor\": \"y9\", \"domain\": [0.7111111111111111, 1.0]}, \"yaxis9\": {\"anchor\": \"x9\", \"domain\": [0.0, 0.3066666666666667]}, \"height\": 1200, \"width\": 1200, \"paper_bgcolor\": \"rgb(233,233,233)\", \"title\": \"Device Plots\"}, {\"showLink\": true, \"linkText\": \"Export to plot.ly\"})});</script>"
          },
          "metadata": {}
        }
      ]
    },
    {
      "metadata": {
        "_uuid": "2d2da2349854a2807a6d339be77eddd62f813c99"
      },
      "cell_type": "markdown",
      "source": "Below graphs show the continent dependancy."
    },
    {
      "metadata": {
        "trusted": true,
        "_uuid": "52a34fd699b825abd6b43196ca33878c6084dc52"
      },
      "cell_type": "code",
      "source": "# Continent\ncnt_srs = train.groupby('geoNetwork.continent')['totals.transactionRevenue'].agg(['size', 'count', 'mean'])\ncnt_srs.columns = [\"count\", \"count of non-zero revenue\", \"mean\"]\ncnt_srs = cnt_srs.sort_values(by=\"count\", ascending=False)\ntrace1 = horizontal_bar_chart(cnt_srs[\"count\"].head(10), 'rgba(58, 71, 80, 0.6)')\ntrace2 = horizontal_bar_chart(cnt_srs[\"count of non-zero revenue\"].head(10), 'rgba(58, 71, 80, 0.6)')\ntrace3 = horizontal_bar_chart(cnt_srs[\"mean\"].head(10), 'rgba(58, 71, 80, 0.6)')\n\n# Creating subplots\nfig = tools.make_subplots(rows=1, cols=3, vertical_spacing=0.08, horizontal_spacing=0.15, \n                          subplot_titles=[\"Continent - Count\", \"Continent - Non-zero Revenue Count\", \"Continent - Mean Revenue\"])\n\nfig.append_trace(trace1, 1, 1)\nfig.append_trace(trace2, 1, 2)\nfig.append_trace(trace3, 1, 3)\n\nfig['layout'].update(height=500, width=1200, paper_bgcolor='rgb(233,233,233)', title=\"Geography Plots\")\npy.iplot(fig, filename='geo-plots')",
      "execution_count": 86,
      "outputs": [
        {
          "output_type": "stream",
          "text": "This is the format of your plot grid:\n[ (1,1) x1,y1 ]  [ (1,2) x2,y2 ]  [ (1,3) x3,y3 ]\n\n",
          "name": "stdout"
        },
        {
          "output_type": "display_data",
          "data": {
            "application/vnd.plotly.v1+json": {
              "data": [
                {
                  "marker": {
                    "color": "rgba(58, 71, 80, 0.6)"
                  },
                  "orientation": "h",
                  "showlegend": false,
                  "x": [
                    21,
                    337,
                    357,
                    4253,
                    4511,
                    10521
                  ],
                  "y": [
                    "(not set)",
                    "Oceania",
                    "Africa",
                    "Asia",
                    "Europe",
                    "Americas"
                  ],
                  "type": "bar",
                  "uid": "8b270cfc-5e56-4b8a-ab92-c590aad12f1f",
                  "xaxis": "x",
                  "yaxis": "y"
                },
                {
                  "marker": {
                    "color": "rgba(58, 71, 80, 0.6)"
                  },
                  "orientation": "h",
                  "showlegend": false,
                  "x": [
                    0,
                    0,
                    0,
                    2,
                    0,
                    191
                  ],
                  "y": [
                    "(not set)",
                    "Oceania",
                    "Africa",
                    "Asia",
                    "Europe",
                    "Americas"
                  ],
                  "type": "bar",
                  "uid": "785de116-9aaa-45bd-99af-a470cdb96fe5",
                  "xaxis": "x2",
                  "yaxis": "y2"
                },
                {
                  "marker": {
                    "color": "rgba(58, 71, 80, 0.6)"
                  },
                  "orientation": "h",
                  "showlegend": false,
                  "x": [
                    null,
                    null,
                    null,
                    150980000,
                    null,
                    108321570.68062827
                  ],
                  "y": [
                    "(not set)",
                    "Oceania",
                    "Africa",
                    "Asia",
                    "Europe",
                    "Americas"
                  ],
                  "type": "bar",
                  "uid": "711f549a-639b-4e61-bbc0-0730df1117d5",
                  "xaxis": "x3",
                  "yaxis": "y3"
                }
              ],
              "layout": {
                "annotations": [
                  {
                    "font": {
                      "size": 16
                    },
                    "showarrow": false,
                    "text": "Continent - Count",
                    "x": 0.11666666666666665,
                    "xanchor": "center",
                    "xref": "paper",
                    "y": 1,
                    "yanchor": "bottom",
                    "yref": "paper"
                  },
                  {
                    "font": {
                      "size": 16
                    },
                    "showarrow": false,
                    "text": "Continent - Non-zero Revenue Count",
                    "x": 0.49999999999999994,
                    "xanchor": "center",
                    "xref": "paper",
                    "y": 1,
                    "yanchor": "bottom",
                    "yref": "paper"
                  },
                  {
                    "font": {
                      "size": 16
                    },
                    "showarrow": false,
                    "text": "Continent - Mean Revenue",
                    "x": 0.8833333333333333,
                    "xanchor": "center",
                    "xref": "paper",
                    "y": 1,
                    "yanchor": "bottom",
                    "yref": "paper"
                  }
                ],
                "xaxis": {
                  "anchor": "y",
                  "domain": [
                    0,
                    0.2333333333333333
                  ]
                },
                "yaxis": {
                  "anchor": "x",
                  "domain": [
                    0,
                    1
                  ]
                },
                "xaxis2": {
                  "anchor": "y2",
                  "domain": [
                    0.3833333333333333,
                    0.6166666666666666
                  ]
                },
                "yaxis2": {
                  "anchor": "x2",
                  "domain": [
                    0,
                    1
                  ]
                },
                "xaxis3": {
                  "anchor": "y3",
                  "domain": [
                    0.7666666666666666,
                    0.9999999999999999
                  ]
                },
                "yaxis3": {
                  "anchor": "x3",
                  "domain": [
                    0,
                    1
                  ]
                },
                "height": 500,
                "width": 1200,
                "paper_bgcolor": "rgb(233,233,233)",
                "title": "Geography Plots"
              }
            },
            "text/html": "<div id=\"980885eb-df3e-4f88-b77d-ee4c1bed57af\" style=\"height: 500px; width: 1200px;\" class=\"plotly-graph-div\"></div><script type=\"text/javascript\">require([\"plotly\"], function(Plotly) { window.PLOTLYENV=window.PLOTLYENV || {};window.PLOTLYENV.BASE_URL=\"https://plot.ly\";Plotly.newPlot(\"980885eb-df3e-4f88-b77d-ee4c1bed57af\", [{\"marker\": {\"color\": \"rgba(58, 71, 80, 0.6)\"}, \"orientation\": \"h\", \"showlegend\": false, \"x\": [21, 337, 357, 4253, 4511, 10521], \"y\": [\"(not set)\", \"Oceania\", \"Africa\", \"Asia\", \"Europe\", \"Americas\"], \"type\": \"bar\", \"uid\": \"8b270cfc-5e56-4b8a-ab92-c590aad12f1f\", \"xaxis\": \"x\", \"yaxis\": \"y\"}, {\"marker\": {\"color\": \"rgba(58, 71, 80, 0.6)\"}, \"orientation\": \"h\", \"showlegend\": false, \"x\": [0, 0, 0, 2, 0, 191], \"y\": [\"(not set)\", \"Oceania\", \"Africa\", \"Asia\", \"Europe\", \"Americas\"], \"type\": \"bar\", \"uid\": \"785de116-9aaa-45bd-99af-a470cdb96fe5\", \"xaxis\": \"x2\", \"yaxis\": \"y2\"}, {\"marker\": {\"color\": \"rgba(58, 71, 80, 0.6)\"}, \"orientation\": \"h\", \"showlegend\": false, \"x\": [null, null, null, 150980000.0, null, 108321570.68062827], \"y\": [\"(not set)\", \"Oceania\", \"Africa\", \"Asia\", \"Europe\", \"Americas\"], \"type\": \"bar\", \"uid\": \"711f549a-639b-4e61-bbc0-0730df1117d5\", \"xaxis\": \"x3\", \"yaxis\": \"y3\"}], {\"annotations\": [{\"font\": {\"size\": 16}, \"showarrow\": false, \"text\": \"Continent - Count\", \"x\": 0.11666666666666665, \"xanchor\": \"center\", \"xref\": \"paper\", \"y\": 1.0, \"yanchor\": \"bottom\", \"yref\": \"paper\"}, {\"font\": {\"size\": 16}, \"showarrow\": false, \"text\": \"Continent - Non-zero Revenue Count\", \"x\": 0.49999999999999994, \"xanchor\": \"center\", \"xref\": \"paper\", \"y\": 1.0, \"yanchor\": \"bottom\", \"yref\": \"paper\"}, {\"font\": {\"size\": 16}, \"showarrow\": false, \"text\": \"Continent - Mean Revenue\", \"x\": 0.8833333333333333, \"xanchor\": \"center\", \"xref\": \"paper\", \"y\": 1.0, \"yanchor\": \"bottom\", \"yref\": \"paper\"}], \"xaxis\": {\"anchor\": \"y\", \"domain\": [0.0, 0.2333333333333333]}, \"yaxis\": {\"anchor\": \"x\", \"domain\": [0.0, 1.0]}, \"xaxis2\": {\"anchor\": \"y2\", \"domain\": [0.3833333333333333, 0.6166666666666666]}, \"yaxis2\": {\"anchor\": \"x2\", \"domain\": [0.0, 1.0]}, \"xaxis3\": {\"anchor\": \"y3\", \"domain\": [0.7666666666666666, 0.9999999999999999]}, \"yaxis3\": {\"anchor\": \"x3\", \"domain\": [0.0, 1.0]}, \"height\": 500, \"width\": 1200, \"paper_bgcolor\": \"rgb(233,233,233)\", \"title\": \"Geography Plots\"}, {\"showLink\": true, \"linkText\": \"Export to plot.ly\"})});</script>",
            "text/vnd.plotly.v1+html": "<div id=\"980885eb-df3e-4f88-b77d-ee4c1bed57af\" style=\"height: 500px; width: 1200px;\" class=\"plotly-graph-div\"></div><script type=\"text/javascript\">require([\"plotly\"], function(Plotly) { window.PLOTLYENV=window.PLOTLYENV || {};window.PLOTLYENV.BASE_URL=\"https://plot.ly\";Plotly.newPlot(\"980885eb-df3e-4f88-b77d-ee4c1bed57af\", [{\"marker\": {\"color\": \"rgba(58, 71, 80, 0.6)\"}, \"orientation\": \"h\", \"showlegend\": false, \"x\": [21, 337, 357, 4253, 4511, 10521], \"y\": [\"(not set)\", \"Oceania\", \"Africa\", \"Asia\", \"Europe\", \"Americas\"], \"type\": \"bar\", \"uid\": \"8b270cfc-5e56-4b8a-ab92-c590aad12f1f\", \"xaxis\": \"x\", \"yaxis\": \"y\"}, {\"marker\": {\"color\": \"rgba(58, 71, 80, 0.6)\"}, \"orientation\": \"h\", \"showlegend\": false, \"x\": [0, 0, 0, 2, 0, 191], \"y\": [\"(not set)\", \"Oceania\", \"Africa\", \"Asia\", \"Europe\", \"Americas\"], \"type\": \"bar\", \"uid\": \"785de116-9aaa-45bd-99af-a470cdb96fe5\", \"xaxis\": \"x2\", \"yaxis\": \"y2\"}, {\"marker\": {\"color\": \"rgba(58, 71, 80, 0.6)\"}, \"orientation\": \"h\", \"showlegend\": false, \"x\": [null, null, null, 150980000.0, null, 108321570.68062827], \"y\": [\"(not set)\", \"Oceania\", \"Africa\", \"Asia\", \"Europe\", \"Americas\"], \"type\": \"bar\", \"uid\": \"711f549a-639b-4e61-bbc0-0730df1117d5\", \"xaxis\": \"x3\", \"yaxis\": \"y3\"}], {\"annotations\": [{\"font\": {\"size\": 16}, \"showarrow\": false, \"text\": \"Continent - Count\", \"x\": 0.11666666666666665, \"xanchor\": \"center\", \"xref\": \"paper\", \"y\": 1.0, \"yanchor\": \"bottom\", \"yref\": \"paper\"}, {\"font\": {\"size\": 16}, \"showarrow\": false, \"text\": \"Continent - Non-zero Revenue Count\", \"x\": 0.49999999999999994, \"xanchor\": \"center\", \"xref\": \"paper\", \"y\": 1.0, \"yanchor\": \"bottom\", \"yref\": \"paper\"}, {\"font\": {\"size\": 16}, \"showarrow\": false, \"text\": \"Continent - Mean Revenue\", \"x\": 0.8833333333333333, \"xanchor\": \"center\", \"xref\": \"paper\", \"y\": 1.0, \"yanchor\": \"bottom\", \"yref\": \"paper\"}], \"xaxis\": {\"anchor\": \"y\", \"domain\": [0.0, 0.2333333333333333]}, \"yaxis\": {\"anchor\": \"x\", \"domain\": [0.0, 1.0]}, \"xaxis2\": {\"anchor\": \"y2\", \"domain\": [0.3833333333333333, 0.6166666666666666]}, \"yaxis2\": {\"anchor\": \"x2\", \"domain\": [0.0, 1.0]}, \"xaxis3\": {\"anchor\": \"y3\", \"domain\": [0.7666666666666666, 0.9999999999999999]}, \"yaxis3\": {\"anchor\": \"x3\", \"domain\": [0.0, 1.0]}, \"height\": 500, \"width\": 1200, \"paper_bgcolor\": \"rgb(233,233,233)\", \"title\": \"Geography Plots\"}, {\"showLink\": true, \"linkText\": \"Export to plot.ly\"})});</script>"
          },
          "metadata": {}
        }
      ]
    },
    {
      "metadata": {
        "_uuid": "ac5ca6fd5127a2062bed34149ce9e9d6d8d22367"
      },
      "cell_type": "markdown",
      "source": "Until now is the part of exploratory data analysis for GA revenue prediction, which I learned from [SRK](https://www.kaggle.com/sudalairajkumar/simple-exploration-baseline-ga-customer-revenue) and Andrew Lukyanenko[](https://www.kaggle.com/artgor/fork-of-eda-on-basic-data-and-lgb-in-progress) 's kernel"
    },
    {
      "metadata": {
        "trusted": true,
        "_uuid": "b28975a825559bf00f63290f65861e8987e3eff6"
      },
      "cell_type": "code",
      "source": "",
      "execution_count": null,
      "outputs": []
    },
    {
      "metadata": {
        "trusted": true,
        "_uuid": "812409129a87088a6b47f6e1899e6e6eb0d31257"
      },
      "cell_type": "code",
      "source": "",
      "execution_count": null,
      "outputs": []
    }
  ],
  "metadata": {
    "kernelspec": {
      "display_name": "Python 3",
      "language": "python",
      "name": "python3"
    },
    "language_info": {
      "name": "python",
      "version": "3.6.6",
      "mimetype": "text/x-python",
      "codemirror_mode": {
        "name": "ipython",
        "version": 3
      },
      "pygments_lexer": "ipython3",
      "nbconvert_exporter": "python",
      "file_extension": ".py"
    }
  },
  "nbformat": 4,
  "nbformat_minor": 1
}